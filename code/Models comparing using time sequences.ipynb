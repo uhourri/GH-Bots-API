{
 "cells": [
  {
   "cell_type": "markdown",
   "metadata": {},
   "source": [
    "# Libraries and data importing"
   ]
  },
  {
   "cell_type": "markdown",
   "metadata": {},
   "source": [
    "Importing packages"
   ]
  },
  {
   "cell_type": "code",
   "execution_count": 2,
   "metadata": {},
   "outputs": [],
   "source": [
    "import pandas as pd\n",
    "import seaborn as sns\n",
    "import matplotlib.pyplot as plt\n",
    "from datetime import datetime, timedelta"
   ]
  },
  {
   "cell_type": "code",
   "execution_count": 3,
   "metadata": {},
   "outputs": [],
   "source": [
    "from statsmodels.tsa.ar_model import AutoReg\n",
    "from statsmodels.tsa.arima.model import ARIMA\n",
    "from statsmodels.tsa.holtwinters import ExponentialSmoothing"
   ]
  },
  {
   "cell_type": "markdown",
   "metadata": {},
   "source": [
    "Importing data"
   ]
  },
  {
   "cell_type": "code",
   "execution_count": 12,
   "metadata": {},
   "outputs": [
    {
     "data": {
      "text/html": [
       "<div>\n",
       "<style scoped>\n",
       "    .dataframe tbody tr th:only-of-type {\n",
       "        vertical-align: middle;\n",
       "    }\n",
       "\n",
       "    .dataframe tbody tr th {\n",
       "        vertical-align: top;\n",
       "    }\n",
       "\n",
       "    .dataframe thead th {\n",
       "        text-align: right;\n",
       "    }\n",
       "</style>\n",
       "<table border=\"1\" class=\"dataframe\">\n",
       "  <thead>\n",
       "    <tr style=\"text-align: right;\">\n",
       "      <th></th>\n",
       "      <th>contributor</th>\n",
       "      <th>category</th>\n",
       "      <th>repository</th>\n",
       "      <th>activity</th>\n",
       "      <th>date</th>\n",
       "    </tr>\n",
       "  </thead>\n",
       "  <tbody>\n",
       "    <tr>\n",
       "      <th>0</th>\n",
       "      <td>AmplabJenkins</td>\n",
       "      <td>bot</td>\n",
       "      <td>apache/spark</td>\n",
       "      <td>Commenting pull request</td>\n",
       "      <td>2022-11-25 09:55:19+00:00</td>\n",
       "    </tr>\n",
       "    <tr>\n",
       "      <th>1</th>\n",
       "      <td>AmplabJenkins</td>\n",
       "      <td>bot</td>\n",
       "      <td>apache/spark</td>\n",
       "      <td>Commenting pull request</td>\n",
       "      <td>2022-11-25 09:55:23+00:00</td>\n",
       "    </tr>\n",
       "    <tr>\n",
       "      <th>2</th>\n",
       "      <td>AmplabJenkins</td>\n",
       "      <td>bot</td>\n",
       "      <td>apache/spark</td>\n",
       "      <td>Commenting pull request</td>\n",
       "      <td>2022-11-25 09:55:26+00:00</td>\n",
       "    </tr>\n",
       "    <tr>\n",
       "      <th>3</th>\n",
       "      <td>analysis-bot</td>\n",
       "      <td>bot</td>\n",
       "      <td>facebook/react-native</td>\n",
       "      <td>Commenting pull request</td>\n",
       "      <td>2022-11-25 09:55:27+00:00</td>\n",
       "    </tr>\n",
       "    <tr>\n",
       "      <th>4</th>\n",
       "      <td>neos-bot</td>\n",
       "      <td>bot</td>\n",
       "      <td>neos/neos-ui-compiled</td>\n",
       "      <td>Pushing commits</td>\n",
       "      <td>2022-11-25 09:55:47+00:00</td>\n",
       "    </tr>\n",
       "    <tr>\n",
       "      <th>...</th>\n",
       "      <td>...</td>\n",
       "      <td>...</td>\n",
       "      <td>...</td>\n",
       "      <td>...</td>\n",
       "      <td>...</td>\n",
       "    </tr>\n",
       "    <tr>\n",
       "      <th>1015418</th>\n",
       "      <td>798388</td>\n",
       "      <td>human</td>\n",
       "      <td>879434</td>\n",
       "      <td>Reviewing code</td>\n",
       "      <td>2023-04-15 16:06:15+00:00</td>\n",
       "    </tr>\n",
       "    <tr>\n",
       "      <th>1015419</th>\n",
       "      <td>798388</td>\n",
       "      <td>human</td>\n",
       "      <td>879434</td>\n",
       "      <td>Reviewing code</td>\n",
       "      <td>2023-04-15 16:07:26+00:00</td>\n",
       "    </tr>\n",
       "    <tr>\n",
       "      <th>1015420</th>\n",
       "      <td>784775</td>\n",
       "      <td>human</td>\n",
       "      <td>643744</td>\n",
       "      <td>Creating branch</td>\n",
       "      <td>2023-04-15 16:07:33+00:00</td>\n",
       "    </tr>\n",
       "    <tr>\n",
       "      <th>1015421</th>\n",
       "      <td>784775</td>\n",
       "      <td>human</td>\n",
       "      <td>888378</td>\n",
       "      <td>Opening pull request</td>\n",
       "      <td>2023-04-15 16:08:07+00:00</td>\n",
       "    </tr>\n",
       "    <tr>\n",
       "      <th>1015422</th>\n",
       "      <td>387854</td>\n",
       "      <td>human</td>\n",
       "      <td>956848</td>\n",
       "      <td>Forking repository</td>\n",
       "      <td>2023-04-15 16:14:22+00:00</td>\n",
       "    </tr>\n",
       "  </tbody>\n",
       "</table>\n",
       "<p>1015423 rows × 5 columns</p>\n",
       "</div>"
      ],
      "text/plain": [
       "           contributor category             repository  \\\n",
       "0        AmplabJenkins      bot           apache/spark   \n",
       "1        AmplabJenkins      bot           apache/spark   \n",
       "2        AmplabJenkins      bot           apache/spark   \n",
       "3         analysis-bot      bot  facebook/react-native   \n",
       "4             neos-bot      bot  neos/neos-ui-compiled   \n",
       "...                ...      ...                    ...   \n",
       "1015418         798388    human                 879434   \n",
       "1015419         798388    human                 879434   \n",
       "1015420         784775    human                 643744   \n",
       "1015421         784775    human                 888378   \n",
       "1015422         387854    human                 956848   \n",
       "\n",
       "                        activity                      date  \n",
       "0        Commenting pull request 2022-11-25 09:55:19+00:00  \n",
       "1        Commenting pull request 2022-11-25 09:55:23+00:00  \n",
       "2        Commenting pull request 2022-11-25 09:55:26+00:00  \n",
       "3        Commenting pull request 2022-11-25 09:55:27+00:00  \n",
       "4                Pushing commits 2022-11-25 09:55:47+00:00  \n",
       "...                          ...                       ...  \n",
       "1015418           Reviewing code 2023-04-15 16:06:15+00:00  \n",
       "1015419           Reviewing code 2023-04-15 16:07:26+00:00  \n",
       "1015420          Creating branch 2023-04-15 16:07:33+00:00  \n",
       "1015421     Opening pull request 2023-04-15 16:08:07+00:00  \n",
       "1015422       Forking repository 2023-04-15 16:14:22+00:00  \n",
       "\n",
       "[1015423 rows x 5 columns]"
      ]
     },
     "execution_count": 12,
     "metadata": {},
     "output_type": "execute_result"
    }
   ],
   "source": [
    "activities = pd.read_parquet('../data-raw/activities.parquet')\n",
    "activities"
   ]
  },
  {
   "cell_type": "markdown",
   "metadata": {},
   "source": [
    "Calculates the date 3 months ago from the last date in the data and filters the dataframe to include only the rows with dates greater than or equal to the date 3 months ago"
   ]
  },
  {
   "cell_type": "code",
   "execution_count": 13,
   "metadata": {},
   "outputs": [
    {
     "data": {
      "text/html": [
       "<div>\n",
       "<style scoped>\n",
       "    .dataframe tbody tr th:only-of-type {\n",
       "        vertical-align: middle;\n",
       "    }\n",
       "\n",
       "    .dataframe tbody tr th {\n",
       "        vertical-align: top;\n",
       "    }\n",
       "\n",
       "    .dataframe thead th {\n",
       "        text-align: right;\n",
       "    }\n",
       "</style>\n",
       "<table border=\"1\" class=\"dataframe\">\n",
       "  <thead>\n",
       "    <tr style=\"text-align: right;\">\n",
       "      <th></th>\n",
       "      <th>contributor</th>\n",
       "      <th>category</th>\n",
       "      <th>repository</th>\n",
       "      <th>activity</th>\n",
       "      <th>date</th>\n",
       "    </tr>\n",
       "  </thead>\n",
       "  <tbody>\n",
       "    <tr>\n",
       "      <th>0</th>\n",
       "      <td>fluttergithubbot</td>\n",
       "      <td>bot</td>\n",
       "      <td>flutter/engine</td>\n",
       "      <td>Reviewing code</td>\n",
       "      <td>2023-01-15 16:14:32+00:00</td>\n",
       "    </tr>\n",
       "    <tr>\n",
       "      <th>1</th>\n",
       "      <td>r-ryantm</td>\n",
       "      <td>bot</td>\n",
       "      <td>r-ryantm/nixpkgs</td>\n",
       "      <td>Creating branch</td>\n",
       "      <td>2023-01-15 16:14:34+00:00</td>\n",
       "    </tr>\n",
       "    <tr>\n",
       "      <th>2</th>\n",
       "      <td>sprucelabs-ci</td>\n",
       "      <td>bot</td>\n",
       "      <td>sprucelabsai/spruce-permission-utils</td>\n",
       "      <td>Pushing commits</td>\n",
       "      <td>2023-01-15 16:14:35+00:00</td>\n",
       "    </tr>\n",
       "    <tr>\n",
       "      <th>3</th>\n",
       "      <td>r-ryantm</td>\n",
       "      <td>bot</td>\n",
       "      <td>NixOS/nixpkgs</td>\n",
       "      <td>Opening pull request</td>\n",
       "      <td>2023-01-15 16:15:42+00:00</td>\n",
       "    </tr>\n",
       "    <tr>\n",
       "      <th>4</th>\n",
       "      <td>AmplabJenkins</td>\n",
       "      <td>bot</td>\n",
       "      <td>apache/spark</td>\n",
       "      <td>Commenting pull request</td>\n",
       "      <td>2023-01-15 16:15:53+00:00</td>\n",
       "    </tr>\n",
       "    <tr>\n",
       "      <th>...</th>\n",
       "      <td>...</td>\n",
       "      <td>...</td>\n",
       "      <td>...</td>\n",
       "      <td>...</td>\n",
       "      <td>...</td>\n",
       "    </tr>\n",
       "    <tr>\n",
       "      <th>678378</th>\n",
       "      <td>798388</td>\n",
       "      <td>human</td>\n",
       "      <td>879434</td>\n",
       "      <td>Reviewing code</td>\n",
       "      <td>2023-04-15 16:06:15+00:00</td>\n",
       "    </tr>\n",
       "    <tr>\n",
       "      <th>678379</th>\n",
       "      <td>798388</td>\n",
       "      <td>human</td>\n",
       "      <td>879434</td>\n",
       "      <td>Reviewing code</td>\n",
       "      <td>2023-04-15 16:07:26+00:00</td>\n",
       "    </tr>\n",
       "    <tr>\n",
       "      <th>678380</th>\n",
       "      <td>784775</td>\n",
       "      <td>human</td>\n",
       "      <td>643744</td>\n",
       "      <td>Creating branch</td>\n",
       "      <td>2023-04-15 16:07:33+00:00</td>\n",
       "    </tr>\n",
       "    <tr>\n",
       "      <th>678381</th>\n",
       "      <td>784775</td>\n",
       "      <td>human</td>\n",
       "      <td>888378</td>\n",
       "      <td>Opening pull request</td>\n",
       "      <td>2023-04-15 16:08:07+00:00</td>\n",
       "    </tr>\n",
       "    <tr>\n",
       "      <th>678382</th>\n",
       "      <td>387854</td>\n",
       "      <td>human</td>\n",
       "      <td>956848</td>\n",
       "      <td>Forking repository</td>\n",
       "      <td>2023-04-15 16:14:22+00:00</td>\n",
       "    </tr>\n",
       "  </tbody>\n",
       "</table>\n",
       "<p>678383 rows × 5 columns</p>\n",
       "</div>"
      ],
      "text/plain": [
       "             contributor category                            repository  \\\n",
       "0       fluttergithubbot      bot                        flutter/engine   \n",
       "1               r-ryantm      bot                      r-ryantm/nixpkgs   \n",
       "2          sprucelabs-ci      bot  sprucelabsai/spruce-permission-utils   \n",
       "3               r-ryantm      bot                         NixOS/nixpkgs   \n",
       "4          AmplabJenkins      bot                          apache/spark   \n",
       "...                  ...      ...                                   ...   \n",
       "678378            798388    human                                879434   \n",
       "678379            798388    human                                879434   \n",
       "678380            784775    human                                643744   \n",
       "678381            784775    human                                888378   \n",
       "678382            387854    human                                956848   \n",
       "\n",
       "                       activity                      date  \n",
       "0                Reviewing code 2023-01-15 16:14:32+00:00  \n",
       "1               Creating branch 2023-01-15 16:14:34+00:00  \n",
       "2               Pushing commits 2023-01-15 16:14:35+00:00  \n",
       "3          Opening pull request 2023-01-15 16:15:42+00:00  \n",
       "4       Commenting pull request 2023-01-15 16:15:53+00:00  \n",
       "...                         ...                       ...  \n",
       "678378           Reviewing code 2023-04-15 16:06:15+00:00  \n",
       "678379           Reviewing code 2023-04-15 16:07:26+00:00  \n",
       "678380          Creating branch 2023-04-15 16:07:33+00:00  \n",
       "678381     Opening pull request 2023-04-15 16:08:07+00:00  \n",
       "678382       Forking repository 2023-04-15 16:14:22+00:00  \n",
       "\n",
       "[678383 rows x 5 columns]"
      ]
     },
     "execution_count": 13,
     "metadata": {},
     "output_type": "execute_result"
    }
   ],
   "source": [
    "thresholded_activities = activities[activities['date'] >= activities['date'].max() - pd.DateOffset(months=3)].reset_index(drop=True)\n",
    "thresholded_activities"
   ]
  },
  {
   "cell_type": "markdown",
   "metadata": {},
   "source": [
    "# 1. Autoregressive model"
   ]
  },
  {
   "cell_type": "markdown",
   "metadata": {},
   "source": [
    "# 2. Moving-average model"
   ]
  },
  {
   "cell_type": "markdown",
   "metadata": {},
   "source": [
    "# 3. Autoregressive Moving-average model"
   ]
  },
  {
   "cell_type": "markdown",
   "metadata": {},
   "source": [
    "# 4. Autoregressive integrated Moving-average model"
   ]
  },
  {
   "cell_type": "markdown",
   "metadata": {},
   "source": [
    "# 5. Seasonal Autoregressive integrated Moving-average with eXogenous regressors model"
   ]
  },
  {
   "cell_type": "markdown",
   "metadata": {},
   "source": [
    "# 6. Vector Autoregressive model"
   ]
  },
  {
   "cell_type": "markdown",
   "metadata": {},
   "source": [
    "# 7. Vector Autoregressive Moving-average with eXogenous regressors model"
   ]
  },
  {
   "cell_type": "markdown",
   "metadata": {},
   "source": [
    "# 8. Unobserved components model"
   ]
  },
  {
   "cell_type": "markdown",
   "metadata": {},
   "source": [
    "# 9. Dynamic factor models"
   ]
  },
  {
   "cell_type": "markdown",
   "metadata": {},
   "source": [
    "# 10. Simple exponential smoothing"
   ]
  },
  {
   "cell_type": "markdown",
   "metadata": {},
   "source": [
    "# 11. Holt’s linear exponential smoothing"
   ]
  },
  {
   "cell_type": "markdown",
   "metadata": {},
   "source": [
    "# 12. Holt-Winters exponential smoothing"
   ]
  }
 ],
 "metadata": {
  "kernelspec": {
   "display_name": "Python 3",
   "language": "python",
   "name": "python3"
  },
  "language_info": {
   "codemirror_mode": {
    "name": "ipython",
    "version": 3
   },
   "file_extension": ".py",
   "mimetype": "text/x-python",
   "name": "python",
   "nbconvert_exporter": "python",
   "pygments_lexer": "ipython3",
   "version": "3.11.5"
  }
 },
 "nbformat": 4,
 "nbformat_minor": 2
}
