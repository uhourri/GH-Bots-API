{
 "cells": [
  {
   "cell_type": "markdown",
   "metadata": {},
   "source": [
    "# Libraries and data importing"
   ]
  },
  {
   "cell_type": "markdown",
   "metadata": {},
   "source": [
    "Importing packages"
   ]
  },
  {
   "cell_type": "code",
   "execution_count": 1,
   "metadata": {},
   "outputs": [],
   "source": [
    "import pandas as pd\n",
    "import numpy as np\n",
    "import matplotlib.pyplot as plt\n",
    "import seaborn as sns"
   ]
  },
  {
   "cell_type": "code",
   "execution_count": 2,
   "metadata": {},
   "outputs": [],
   "source": [
    "from statsmodels.tsa.statespace.sarimax import SARIMAX\n",
    "from statsmodels.tsa.statespace.structural import UnobservedComponents\n",
    "from statsmodels.tsa.exponential_smoothing.ets import ETSModel\n",
    "from statsmodels.tsa.stattools import acf, pacf"
   ]
  },
  {
   "cell_type": "code",
   "execution_count": 3,
   "metadata": {},
   "outputs": [],
   "source": [
    "from sklearn.metrics import r2_score, mean_absolute_error"
   ]
  },
  {
   "cell_type": "markdown",
   "metadata": {},
   "source": [
    "Importing data"
   ]
  },
  {
   "cell_type": "code",
   "execution_count": 4,
   "metadata": {},
   "outputs": [
    {
     "data": {
      "text/html": [
       "<div>\n",
       "<style scoped>\n",
       "    .dataframe tbody tr th:only-of-type {\n",
       "        vertical-align: middle;\n",
       "    }\n",
       "\n",
       "    .dataframe tbody tr th {\n",
       "        vertical-align: top;\n",
       "    }\n",
       "\n",
       "    .dataframe thead th {\n",
       "        text-align: right;\n",
       "    }\n",
       "</style>\n",
       "<table border=\"1\" class=\"dataframe\">\n",
       "  <thead>\n",
       "    <tr style=\"text-align: right;\">\n",
       "      <th></th>\n",
       "      <th>contributor</th>\n",
       "      <th>category</th>\n",
       "      <th>repository</th>\n",
       "      <th>activity</th>\n",
       "      <th>date</th>\n",
       "    </tr>\n",
       "  </thead>\n",
       "  <tbody>\n",
       "    <tr>\n",
       "      <th>0</th>\n",
       "      <td>AmplabJenkins</td>\n",
       "      <td>bot</td>\n",
       "      <td>apache/spark</td>\n",
       "      <td>Commenting pull request</td>\n",
       "      <td>2022-11-25 09:55:19+00:00</td>\n",
       "    </tr>\n",
       "    <tr>\n",
       "      <th>1</th>\n",
       "      <td>AmplabJenkins</td>\n",
       "      <td>bot</td>\n",
       "      <td>apache/spark</td>\n",
       "      <td>Commenting pull request</td>\n",
       "      <td>2022-11-25 09:55:23+00:00</td>\n",
       "    </tr>\n",
       "    <tr>\n",
       "      <th>2</th>\n",
       "      <td>AmplabJenkins</td>\n",
       "      <td>bot</td>\n",
       "      <td>apache/spark</td>\n",
       "      <td>Commenting pull request</td>\n",
       "      <td>2022-11-25 09:55:26+00:00</td>\n",
       "    </tr>\n",
       "    <tr>\n",
       "      <th>3</th>\n",
       "      <td>analysis-bot</td>\n",
       "      <td>bot</td>\n",
       "      <td>facebook/react-native</td>\n",
       "      <td>Commenting pull request</td>\n",
       "      <td>2022-11-25 09:55:27+00:00</td>\n",
       "    </tr>\n",
       "    <tr>\n",
       "      <th>4</th>\n",
       "      <td>neos-bot</td>\n",
       "      <td>bot</td>\n",
       "      <td>neos/neos-ui-compiled</td>\n",
       "      <td>Pushing commits</td>\n",
       "      <td>2022-11-25 09:55:47+00:00</td>\n",
       "    </tr>\n",
       "    <tr>\n",
       "      <th>...</th>\n",
       "      <td>...</td>\n",
       "      <td>...</td>\n",
       "      <td>...</td>\n",
       "      <td>...</td>\n",
       "      <td>...</td>\n",
       "    </tr>\n",
       "    <tr>\n",
       "      <th>1015418</th>\n",
       "      <td>798388</td>\n",
       "      <td>human</td>\n",
       "      <td>879434</td>\n",
       "      <td>Reviewing code</td>\n",
       "      <td>2023-04-15 16:06:15+00:00</td>\n",
       "    </tr>\n",
       "    <tr>\n",
       "      <th>1015419</th>\n",
       "      <td>798388</td>\n",
       "      <td>human</td>\n",
       "      <td>879434</td>\n",
       "      <td>Reviewing code</td>\n",
       "      <td>2023-04-15 16:07:26+00:00</td>\n",
       "    </tr>\n",
       "    <tr>\n",
       "      <th>1015420</th>\n",
       "      <td>784775</td>\n",
       "      <td>human</td>\n",
       "      <td>643744</td>\n",
       "      <td>Creating branch</td>\n",
       "      <td>2023-04-15 16:07:33+00:00</td>\n",
       "    </tr>\n",
       "    <tr>\n",
       "      <th>1015421</th>\n",
       "      <td>784775</td>\n",
       "      <td>human</td>\n",
       "      <td>888378</td>\n",
       "      <td>Opening pull request</td>\n",
       "      <td>2023-04-15 16:08:07+00:00</td>\n",
       "    </tr>\n",
       "    <tr>\n",
       "      <th>1015422</th>\n",
       "      <td>387854</td>\n",
       "      <td>human</td>\n",
       "      <td>956848</td>\n",
       "      <td>Forking repository</td>\n",
       "      <td>2023-04-15 16:14:22+00:00</td>\n",
       "    </tr>\n",
       "  </tbody>\n",
       "</table>\n",
       "<p>1015423 rows × 5 columns</p>\n",
       "</div>"
      ],
      "text/plain": [
       "           contributor category             repository  \\\n",
       "0        AmplabJenkins      bot           apache/spark   \n",
       "1        AmplabJenkins      bot           apache/spark   \n",
       "2        AmplabJenkins      bot           apache/spark   \n",
       "3         analysis-bot      bot  facebook/react-native   \n",
       "4             neos-bot      bot  neos/neos-ui-compiled   \n",
       "...                ...      ...                    ...   \n",
       "1015418         798388    human                 879434   \n",
       "1015419         798388    human                 879434   \n",
       "1015420         784775    human                 643744   \n",
       "1015421         784775    human                 888378   \n",
       "1015422         387854    human                 956848   \n",
       "\n",
       "                        activity                      date  \n",
       "0        Commenting pull request 2022-11-25 09:55:19+00:00  \n",
       "1        Commenting pull request 2022-11-25 09:55:23+00:00  \n",
       "2        Commenting pull request 2022-11-25 09:55:26+00:00  \n",
       "3        Commenting pull request 2022-11-25 09:55:27+00:00  \n",
       "4                Pushing commits 2022-11-25 09:55:47+00:00  \n",
       "...                          ...                       ...  \n",
       "1015418           Reviewing code 2023-04-15 16:06:15+00:00  \n",
       "1015419           Reviewing code 2023-04-15 16:07:26+00:00  \n",
       "1015420          Creating branch 2023-04-15 16:07:33+00:00  \n",
       "1015421     Opening pull request 2023-04-15 16:08:07+00:00  \n",
       "1015422       Forking repository 2023-04-15 16:14:22+00:00  \n",
       "\n",
       "[1015423 rows x 5 columns]"
      ]
     },
     "execution_count": 4,
     "metadata": {},
     "output_type": "execute_result"
    }
   ],
   "source": [
    "activities = pd.read_parquet('../data-raw/activities.parquet')\n",
    "activities"
   ]
  },
  {
   "cell_type": "markdown",
   "metadata": {},
   "source": [
    "600 events for each contributor"
   ]
  },
  {
   "cell_type": "code",
   "execution_count": 5,
   "metadata": {},
   "outputs": [
    {
     "data": {
      "text/html": [
       "<div>\n",
       "<style scoped>\n",
       "    .dataframe tbody tr th:only-of-type {\n",
       "        vertical-align: middle;\n",
       "    }\n",
       "\n",
       "    .dataframe tbody tr th {\n",
       "        vertical-align: top;\n",
       "    }\n",
       "\n",
       "    .dataframe thead th {\n",
       "        text-align: right;\n",
       "    }\n",
       "</style>\n",
       "<table border=\"1\" class=\"dataframe\">\n",
       "  <thead>\n",
       "    <tr style=\"text-align: right;\">\n",
       "      <th></th>\n",
       "      <th>contributor</th>\n",
       "      <th>category</th>\n",
       "      <th>repository</th>\n",
       "      <th>activity</th>\n",
       "      <th>date</th>\n",
       "    </tr>\n",
       "  </thead>\n",
       "  <tbody>\n",
       "    <tr>\n",
       "      <th>365</th>\n",
       "      <td>nodebb-misty</td>\n",
       "      <td>bot</td>\n",
       "      <td>julianlam/nodebb-plugin-email-helper</td>\n",
       "      <td>Closing pull request</td>\n",
       "      <td>2022-11-25 11:08:46+00:00</td>\n",
       "    </tr>\n",
       "    <tr>\n",
       "      <th>409</th>\n",
       "      <td>nodebb-misty</td>\n",
       "      <td>bot</td>\n",
       "      <td>NodeBB/nodebb-plugin-topic-redirect</td>\n",
       "      <td>Closing pull request</td>\n",
       "      <td>2022-11-25 11:20:10+00:00</td>\n",
       "    </tr>\n",
       "    <tr>\n",
       "      <th>417</th>\n",
       "      <td>nodebb-misty</td>\n",
       "      <td>bot</td>\n",
       "      <td>NodeBB/nodebb-plugin-write-api</td>\n",
       "      <td>Closing pull request</td>\n",
       "      <td>2022-11-25 11:21:23+00:00</td>\n",
       "    </tr>\n",
       "    <tr>\n",
       "      <th>523</th>\n",
       "      <td>nodebb-misty</td>\n",
       "      <td>bot</td>\n",
       "      <td>julianlam/nodebb-plugin-sso-oauth</td>\n",
       "      <td>Closing pull request</td>\n",
       "      <td>2022-11-25 11:47:30+00:00</td>\n",
       "    </tr>\n",
       "    <tr>\n",
       "      <th>5518</th>\n",
       "      <td>jenkins-x-bot-test</td>\n",
       "      <td>bot</td>\n",
       "      <td>jenkins-x-charts/jxboot-helmfile-resources</td>\n",
       "      <td>Creating branch</td>\n",
       "      <td>2022-11-26 19:57:10+00:00</td>\n",
       "    </tr>\n",
       "    <tr>\n",
       "      <th>...</th>\n",
       "      <td>...</td>\n",
       "      <td>...</td>\n",
       "      <td>...</td>\n",
       "      <td>...</td>\n",
       "      <td>...</td>\n",
       "    </tr>\n",
       "    <tr>\n",
       "      <th>1015418</th>\n",
       "      <td>798388</td>\n",
       "      <td>human</td>\n",
       "      <td>879434</td>\n",
       "      <td>Reviewing code</td>\n",
       "      <td>2023-04-15 16:06:15+00:00</td>\n",
       "    </tr>\n",
       "    <tr>\n",
       "      <th>1015419</th>\n",
       "      <td>798388</td>\n",
       "      <td>human</td>\n",
       "      <td>879434</td>\n",
       "      <td>Reviewing code</td>\n",
       "      <td>2023-04-15 16:07:26+00:00</td>\n",
       "    </tr>\n",
       "    <tr>\n",
       "      <th>1015420</th>\n",
       "      <td>784775</td>\n",
       "      <td>human</td>\n",
       "      <td>643744</td>\n",
       "      <td>Creating branch</td>\n",
       "      <td>2023-04-15 16:07:33+00:00</td>\n",
       "    </tr>\n",
       "    <tr>\n",
       "      <th>1015421</th>\n",
       "      <td>784775</td>\n",
       "      <td>human</td>\n",
       "      <td>888378</td>\n",
       "      <td>Opening pull request</td>\n",
       "      <td>2023-04-15 16:08:07+00:00</td>\n",
       "    </tr>\n",
       "    <tr>\n",
       "      <th>1015422</th>\n",
       "      <td>387854</td>\n",
       "      <td>human</td>\n",
       "      <td>956848</td>\n",
       "      <td>Forking repository</td>\n",
       "      <td>2023-04-15 16:14:22+00:00</td>\n",
       "    </tr>\n",
       "  </tbody>\n",
       "</table>\n",
       "<p>162000 rows × 5 columns</p>\n",
       "</div>"
      ],
      "text/plain": [
       "                contributor category  \\\n",
       "365            nodebb-misty      bot   \n",
       "409            nodebb-misty      bot   \n",
       "417            nodebb-misty      bot   \n",
       "523            nodebb-misty      bot   \n",
       "5518     jenkins-x-bot-test      bot   \n",
       "...                     ...      ...   \n",
       "1015418              798388    human   \n",
       "1015419              798388    human   \n",
       "1015420              784775    human   \n",
       "1015421              784775    human   \n",
       "1015422              387854    human   \n",
       "\n",
       "                                         repository              activity  \\\n",
       "365            julianlam/nodebb-plugin-email-helper  Closing pull request   \n",
       "409             NodeBB/nodebb-plugin-topic-redirect  Closing pull request   \n",
       "417                  NodeBB/nodebb-plugin-write-api  Closing pull request   \n",
       "523               julianlam/nodebb-plugin-sso-oauth  Closing pull request   \n",
       "5518     jenkins-x-charts/jxboot-helmfile-resources       Creating branch   \n",
       "...                                             ...                   ...   \n",
       "1015418                                      879434        Reviewing code   \n",
       "1015419                                      879434        Reviewing code   \n",
       "1015420                                      643744       Creating branch   \n",
       "1015421                                      888378  Opening pull request   \n",
       "1015422                                      956848    Forking repository   \n",
       "\n",
       "                             date  \n",
       "365     2022-11-25 11:08:46+00:00  \n",
       "409     2022-11-25 11:20:10+00:00  \n",
       "417     2022-11-25 11:21:23+00:00  \n",
       "523     2022-11-25 11:47:30+00:00  \n",
       "5518    2022-11-26 19:57:10+00:00  \n",
       "...                           ...  \n",
       "1015418 2023-04-15 16:06:15+00:00  \n",
       "1015419 2023-04-15 16:07:26+00:00  \n",
       "1015420 2023-04-15 16:07:33+00:00  \n",
       "1015421 2023-04-15 16:08:07+00:00  \n",
       "1015422 2023-04-15 16:14:22+00:00  \n",
       "\n",
       "[162000 rows x 5 columns]"
      ]
     },
     "execution_count": 5,
     "metadata": {},
     "output_type": "execute_result"
    }
   ],
   "source": [
    "data = ( \n",
    "    activities\n",
    "    # keep the last 600 events for each contributor\n",
    "    .groupby('contributor')\n",
    "    .tail(600)\n",
    "    # keep the contributors who have 600 events\n",
    "    .groupby('contributor')\n",
    "    .filter(lambda x: len(x) == 600)\n",
    ")\n",
    "data"
   ]
  },
  {
   "cell_type": "markdown",
   "metadata": {},
   "source": [
    "# Evaluation metrics"
   ]
  },
  {
   "cell_type": "code",
   "execution_count": 6,
   "metadata": {},
   "outputs": [],
   "source": [
    "def pga_score(y_true, y_pred):\n",
    "    return (y_pred >= y_true).mean()"
   ]
  },
  {
   "cell_type": "code",
   "execution_count": 7,
   "metadata": {},
   "outputs": [],
   "source": [
    "def ctd_score(y_true, y_pred, target_value):\n",
    "\n",
    "    true_cumsum, pred_cumsum = np.cumsum(y_true), np.cumsum(y_pred)\n",
    "    time_true, time_pred = np.argmax(true_cumsum >= target_value), np.argmax(pred_cumsum >= target_value)\n",
    "\n",
    "    # display(true_cumsum.tolist(), pred_cumsum.tolist())\n",
    "\n",
    "    if sum(y_true) < target_value:\n",
    "        ctd = len(y_pred) - time_pred\n",
    "    elif sum(y_pred) < target_value:\n",
    "        ctd = time_true - len(y_true)\n",
    "    else:\n",
    "        ctd = time_true - time_pred\n",
    "\n",
    "    return ctd"
   ]
  },
  {
   "cell_type": "code",
   "execution_count": null,
   "metadata": {},
   "outputs": [],
   "source": [
    "true_values = [2, 11, 84, 57, 0, 38, 15, 80, 4, 30, 90, 0, 0, 500]\n",
    "pred_values = [52, 22, 95, 9, 11, 1, 73, 0, 30, 50, 2, 1, 3, 0]\n",
    "\n",
    "print(\"Cumulative Time Difference:\", ctd_score(true_values, pred_values, 900))"
   ]
  },
  {
   "cell_type": "markdown",
   "metadata": {},
   "source": [
    "# Time ranges"
   ]
  },
  {
   "cell_type": "code",
   "execution_count": 9,
   "metadata": {},
   "outputs": [
    {
     "data": {
      "text/html": [
       "<div>\n",
       "<style scoped>\n",
       "    .dataframe tbody tr th:only-of-type {\n",
       "        vertical-align: middle;\n",
       "    }\n",
       "\n",
       "    .dataframe tbody tr th {\n",
       "        vertical-align: top;\n",
       "    }\n",
       "\n",
       "    .dataframe thead th {\n",
       "        text-align: right;\n",
       "    }\n",
       "</style>\n",
       "<table border=\"1\" class=\"dataframe\">\n",
       "  <thead>\n",
       "    <tr style=\"text-align: right;\">\n",
       "      <th></th>\n",
       "      <th>category</th>\n",
       "      <th>contributor</th>\n",
       "      <th>duration</th>\n",
       "    </tr>\n",
       "  </thead>\n",
       "  <tbody>\n",
       "    <tr>\n",
       "      <th>77</th>\n",
       "      <td>bot</td>\n",
       "      <td>lgtm-com[bot]</td>\n",
       "      <td>36</td>\n",
       "    </tr>\n",
       "    <tr>\n",
       "      <th>30</th>\n",
       "      <td>bot</td>\n",
       "      <td>codeclimate[bot]</td>\n",
       "      <td>48</td>\n",
       "    </tr>\n",
       "    <tr>\n",
       "      <th>7</th>\n",
       "      <td>bot</td>\n",
       "      <td>adobe-bot</td>\n",
       "      <td>55</td>\n",
       "    </tr>\n",
       "    <tr>\n",
       "      <th>115</th>\n",
       "      <td>bot</td>\n",
       "      <td>renovate-approve-2[bot]</td>\n",
       "      <td>61</td>\n",
       "    </tr>\n",
       "    <tr>\n",
       "      <th>105</th>\n",
       "      <td>bot</td>\n",
       "      <td>openshift-cherrypick-robot</td>\n",
       "      <td>64</td>\n",
       "    </tr>\n",
       "    <tr>\n",
       "      <th>...</th>\n",
       "      <td>...</td>\n",
       "      <td>...</td>\n",
       "      <td>...</td>\n",
       "    </tr>\n",
       "    <tr>\n",
       "      <th>135</th>\n",
       "      <td>bot</td>\n",
       "      <td>sre-bot</td>\n",
       "      <td>3237</td>\n",
       "    </tr>\n",
       "    <tr>\n",
       "      <th>219</th>\n",
       "      <td>human</td>\n",
       "      <td>748599</td>\n",
       "      <td>3278</td>\n",
       "    </tr>\n",
       "    <tr>\n",
       "      <th>157</th>\n",
       "      <td>human</td>\n",
       "      <td>353444</td>\n",
       "      <td>3287</td>\n",
       "    </tr>\n",
       "    <tr>\n",
       "      <th>69</th>\n",
       "      <td>bot</td>\n",
       "      <td>jenkins-x-bot-test</td>\n",
       "      <td>3340</td>\n",
       "    </tr>\n",
       "    <tr>\n",
       "      <th>98</th>\n",
       "      <td>bot</td>\n",
       "      <td>nodebb-misty</td>\n",
       "      <td>3378</td>\n",
       "    </tr>\n",
       "  </tbody>\n",
       "</table>\n",
       "<p>270 rows × 3 columns</p>\n",
       "</div>"
      ],
      "text/plain": [
       "    category                 contributor  duration\n",
       "77       bot               lgtm-com[bot]        36\n",
       "30       bot            codeclimate[bot]        48\n",
       "7        bot                   adobe-bot        55\n",
       "115      bot     renovate-approve-2[bot]        61\n",
       "105      bot  openshift-cherrypick-robot        64\n",
       "..       ...                         ...       ...\n",
       "135      bot                     sre-bot      3237\n",
       "219    human                      748599      3278\n",
       "157    human                      353444      3287\n",
       "69       bot          jenkins-x-bot-test      3340\n",
       "98       bot                nodebb-misty      3378\n",
       "\n",
       "[270 rows x 3 columns]"
      ]
     },
     "execution_count": 9,
     "metadata": {},
     "output_type": "execute_result"
    }
   ],
   "source": [
    "time_ranges = (\n",
    "    data\n",
    "    .groupby(['category', 'contributor'])['date']\n",
    "    .agg(lambda x: int((x.iat[-1] - x.iat[0]).total_seconds()/3600))\n",
    "    .reset_index(name='duration')\n",
    ")\n",
    "time_ranges.sort_values(by='duration')"
   ]
  },
  {
   "cell_type": "code",
   "execution_count": 10,
   "metadata": {},
   "outputs": [
    {
     "data": {
      "text/plain": [
       "<Axes: ylabel='duration'>"
      ]
     },
     "execution_count": 10,
     "metadata": {},
     "output_type": "execute_result"
    },
    {
     "data": {
      "image/png": "[encoded data removed]",
      "text/plain": [
       "<Figure size 640x480 with 1 Axes>"
      ]
     },
     "metadata": {},
     "output_type": "display_data"
    }
   ],
   "source": [
    "sns.boxenplot(time_ranges, y='duration', hue='category')"
   ]
  },
  {
   "cell_type": "markdown",
   "metadata": {},
   "source": [
    "Maps a range duration (in seconds) to frequency format."
   ]
  },
  {
   "cell_type": "code",
   "execution_count": 252,
   "metadata": {},
   "outputs": [],
   "source": [
    "def range_to_frequency(contributor):\n",
    "    \n",
    "    train = contributor.head(300)\n",
    "    train = train[train['date'] >= train['date'].max() - pd.DateOffset(months=3)]\n",
    "    range = int((train['date'].iloc[-1] - train['date'].iloc[0]).total_seconds())\n",
    "    range_m = range//3600//len(train)\n",
    "\n",
    "    print('range :', range)\n",
    "    print('range_m :', range_m)\n",
    "\n",
    "    range = 3600\n",
    "\n",
    "    if range_m == 0:    # one activity in less than an hour\n",
    "        print(\"one activity in less than an hour\")\n",
    "        freq = range//3600\n",
    "        print(freq, 'minutes')\n",
    "    elif range_m == 1:  # one activity per hour\n",
    "        print(\"one activity per hour\")\n",
    "        freq = 1\n",
    "        print(freq, 'hour')\n",
    "    else:               # one activity in more than an hour\n",
    "        print(\"one activity in more than an hour\")\n",
    "        freq = 24//((24//range_m)+1)\n",
    "        print(freq, 'hours')"
   ]
  },
  {
   "cell_type": "code",
   "execution_count": 276,
   "metadata": {},
   "outputs": [
    {
     "name": "stdout",
     "output_type": "stream",
     "text": [
      "flinkbot\n",
      "range : 542838\n",
      "range_m : 0\n",
      "one activity in less than an hour\n",
      "1 minutes\n"
     ]
    }
   ],
   "source": [
    "# Example usage:\n",
    "random_name = data['contributor'].sample().values[0]\n",
    "print(random_name)\n",
    "\n",
    "random_user = data[data['contributor'] == random_name]\n",
    "range_to_frequency(random_user)"
   ]
  },
  {
   "cell_type": "markdown",
   "metadata": {},
   "source": [
    "# Data splitting"
   ]
  },
  {
   "cell_type": "code",
   "execution_count": null,
   "metadata": {},
   "outputs": [],
   "source": [
    "def split_activities(contributor):\n",
    "\n",
    "    frequency = range_to_frequency(contributor)\n",
    "\n",
    "    result = (\n",
    "        contributor\n",
    "        .groupby([pd.Grouper(key='date', freq=frequency)])['activity']\n",
    "        .count()\n",
    "        .reset_index(name='n_activities')\n",
    "        .set_index('date')\n",
    "        .resample(frequency)\n",
    "        .sum()\n",
    "        .rename_axis(None)\n",
    "        .assign(\n",
    "            cumsum_activities = lambda x: x['n_activities'].cumsum()\n",
    "        )\n",
    "    )\n",
    "\n",
    "    train, test = (\n",
    "        result[result['cumsum_activities'] <= 300]\n",
    "        .apply(lambda x : x[x.index >= x.index.max() - pd.DateOffset(months=3)])\n",
    "        .drop('cumsum_activities', axis=1),\n",
    "\n",
    "        result[result['cumsum_activities'] > 300]\n",
    "        .drop('cumsum_activities', axis=1)\n",
    "    )\n",
    "\n",
    "    return train, test"
   ]
  },
  {
   "cell_type": "code",
   "execution_count": null,
   "metadata": {},
   "outputs": [],
   "source": [
    "train, _ = split_activities(data[data['contributor'] == '353444'])\n",
    "int((train.index[-1] - train.index[0]).total_seconds()/3600)"
   ]
  },
  {
   "cell_type": "markdown",
   "metadata": {},
   "source": [
    "# 1. Seasonal Autoregressive integrated Moving-average model"
   ]
  },
  {
   "cell_type": "code",
   "execution_count": null,
   "metadata": {},
   "outputs": [],
   "source": [
    "def sarima_model(contributor):\n",
    "\n",
    "    contributor_name = contributor['contributor'].iloc[0]\n",
    "    contributor_category = contributor['category'].iloc[0]\n",
    "    print(contributor_name)\n",
    "\n",
    "    train, test = split_activities(contributor)\n",
    "    freq = train.index.freq.name\n",
    "\n",
    "    # choosing appropriate parameters\n",
    "    match freq:\n",
    "        case 'H':\n",
    "            order = (1, 1, 1)\n",
    "            seasonal_order = (1, 1, 1, 24)\n",
    "        case 'D':\n",
    "            order = (1, 1, 1)\n",
    "            seasonal_order = (1, 1, 1, 7)\n",
    "        case _:\n",
    "            # for short time range, no seasonality\n",
    "            p = int((len(train)/3))\n",
    "            order = (p, 1, 0)\n",
    "            seasonal_order = None\n",
    "\n",
    "    model = SARIMAX(\n",
    "        train['n_activities'], \n",
    "        order = order, \n",
    "        seasonal_order = seasonal_order, \n",
    "        enforce_invertibility = True, \n",
    "        enforce_stationarity = False\n",
    "        ).fit(disp=False, method='lbfgs')\n",
    "\n",
    "    # Forecast the test set using confidence interval with 95%\n",
    "    predictions = model.get_prediction(start=len(train), end=len(train)+len(test)-1).summary_frame(alpha=0.05)\n",
    "\n",
    "    metrics = pd.Series({\n",
    "        'contributor': contributor_name,\n",
    "        'category': contributor_category,\n",
    "        'r2': r2_score(test['n_activities'], predictions['mean']),\n",
    "        'mae': mean_absolute_error(test['n_activities'], predictions['mean']),\n",
    "        'pga': pga_score(test['n_activities'], predictions['mean']),\n",
    "        'ctd_100': ctd_score(test['n_activities'], predictions['mean'], 100),\n",
    "        'ctd_200': ctd_score(test['n_activities'], predictions['mean'], 200),\n",
    "        'ctd_300': ctd_score(test['n_activities'], predictions['mean'], 300),\n",
    "        'n_activities': train['n_activities'].sum(),\n",
    "        'frequency': freq,\n",
    "        'data_points':len(train)\n",
    "    })\n",
    "\n",
    "    return metrics"
   ]
  },
  {
   "cell_type": "code",
   "execution_count": null,
   "metadata": {},
   "outputs": [],
   "source": [
    "sarima_results = data.groupby(['category', 'contributor']).apply(sarima_model).reset_index(drop=True)"
   ]
  },
  {
   "cell_type": "code",
   "execution_count": null,
   "metadata": {},
   "outputs": [],
   "source": [
    "sarima_results.to_csv('../models-evaluation-v3/sarima_model_metrics.csv', index=False)"
   ]
  },
  {
   "cell_type": "markdown",
   "metadata": {},
   "source": [
    "# 2. Unobserved components model"
   ]
  },
  {
   "cell_type": "code",
   "execution_count": null,
   "metadata": {},
   "outputs": [],
   "source": [
    "def uc_model(contributor):\n",
    "\n",
    "    contributor_name = contributor['contributor'].iloc[0]\n",
    "    contributor_category = contributor['category'].iloc[0]\n",
    "\n",
    "    print(contributor_name)\n",
    "\n",
    "    train, test = split_activities(contributor)\n",
    "    freq = train.index.freq.name\n",
    "\n",
    "    match freq:\n",
    "        case 'H':\n",
    "            seasonal = 24\n",
    "        case 'D':\n",
    "            seasonal = 7\n",
    "        case _:\n",
    "            seasonal = None\n",
    "\n",
    "    model = UnobservedComponents(\n",
    "        train['n_activities'], \n",
    "        level = True, \n",
    "        seasonal = seasonal\n",
    "        ).fit(disp=False, method='lbfgs')\n",
    "\n",
    "    # Forecast the test set using confidence interval with 95%\n",
    "    predictions = model.get_prediction(start=len(train), end=len(train)+len(test)-1).summary_frame(alpha=0.05)\n",
    "\n",
    "    metrics = pd.Series({\n",
    "        'contributor': contributor_name,\n",
    "        'category': contributor_category,\n",
    "        'r2': r2_score(test['n_activities'], predictions['mean']),\n",
    "        'mae': mean_absolute_error(test['n_activities'], predictions['mean']),\n",
    "        'pga': pga_score(test['n_activities'], predictions['mean']),\n",
    "        'ctd_100': ctd_score(test['n_activities'], predictions['mean'], 100),\n",
    "        'ctd_200': ctd_score(test['n_activities'], predictions['mean'], 200),\n",
    "        'ctd_300': ctd_score(test['n_activities'], predictions['mean'], 300),\n",
    "        'n_activities': train['n_activities'].sum(),\n",
    "        'frequency': freq,\n",
    "        'data_points':len(train)\n",
    "    })\n",
    "\n",
    "    return metrics"
   ]
  },
  {
   "cell_type": "code",
   "execution_count": null,
   "metadata": {},
   "outputs": [],
   "source": [
    "uc_results = data.groupby(['category', 'contributor']).apply(uc_model).reset_index(drop=True)"
   ]
  },
  {
   "cell_type": "code",
   "execution_count": null,
   "metadata": {},
   "outputs": [],
   "source": [
    "uc_results.to_csv('../models-evaluation-v3/uc_model_metrics.csv', index=False)"
   ]
  },
  {
   "cell_type": "markdown",
   "metadata": {},
   "source": [
    "# 3. Exponential smoothing model"
   ]
  },
  {
   "cell_type": "code",
   "execution_count": null,
   "metadata": {},
   "outputs": [],
   "source": [
    "def es_model(contributor):\n",
    "\n",
    "    contributor_name = contributor['contributor'].iloc[0]\n",
    "    contributor_category = contributor['category'].iloc[0]\n",
    "\n",
    "    print(contributor_name)\n",
    "\n",
    "    train, test = split_activities(contributor)\n",
    "    freq = train.index.freq.name\n",
    "\n",
    "    match freq:\n",
    "        case 'H':\n",
    "            seasonal = 'add'\n",
    "            seasonal_periods = 24\n",
    "        case 'D':\n",
    "            seasonal = 'add'\n",
    "            seasonal_periods = 7\n",
    "        case _:\n",
    "            seasonal = None\n",
    "            seasonal_periods = None\n",
    "\n",
    "    model = ETSModel(\n",
    "        train['n_activities'], \n",
    "        error = 'add', \n",
    "        trend = 'add', \n",
    "        seasonal = seasonal, \n",
    "        seasonal_periods = seasonal_periods\n",
    "    ).fit(disp=False)\n",
    "\n",
    "    predictions = model.get_prediction(start=len(train), end=len(train)+len(test)-1).summary_frame(alpha=0.05)\n",
    "\n",
    "    metrics = pd.Series({\n",
    "        'contributor': contributor_name,\n",
    "        'category': contributor_category,\n",
    "        'r2': r2_score(test['n_activities'], predictions['mean']),\n",
    "        'mae': mean_absolute_error(test['n_activities'], predictions['mean']),\n",
    "        'pga': pga_score(test['n_activities'], predictions['mean']),\n",
    "        'ctd_100': ctd_score(test['n_activities'], predictions['mean'], 100),\n",
    "        'ctd_200': ctd_score(test['n_activities'], predictions['mean'], 200),\n",
    "        'ctd_300': ctd_score(test['n_activities'], predictions['mean'], 300),\n",
    "        'n_activities': train['n_activities'].sum(),\n",
    "        'frequency': freq,\n",
    "        'data_points':len(train)\n",
    "    })\n",
    "\n",
    "    return metrics"
   ]
  },
  {
   "cell_type": "code",
   "execution_count": null,
   "metadata": {},
   "outputs": [],
   "source": [
    "es_results = data.groupby(['category', 'contributor']).apply(es_model).reset_index(drop=True)"
   ]
  },
  {
   "cell_type": "code",
   "execution_count": null,
   "metadata": {},
   "outputs": [],
   "source": [
    "es_results.to_csv('../models-evaluation-v3/es_model_metrics.csv', index=False)"
   ]
  },
  {
   "cell_type": "markdown",
   "metadata": {},
   "source": [
    "# Models comparing"
   ]
  },
  {
   "cell_type": "code",
   "execution_count": null,
   "metadata": {},
   "outputs": [],
   "source": [
    "sarima_results = pd.read_csv('../models-evaluation-v3/sarima_model_metrics.csv')\n",
    "uc_results = pd.read_csv('../models-evaluation-v3/uc_model_metrics.csv')\n",
    "es_results = pd.read_csv('../models-evaluation-v3/es_model_metrics.csv')"
   ]
  },
  {
   "cell_type": "code",
   "execution_count": null,
   "metadata": {},
   "outputs": [],
   "source": [
    "sarima_results['model'] = 'sarima'\n",
    "uc_results['model'] = 'uc'\n",
    "es_results['model'] = 'tes'"
   ]
  },
  {
   "cell_type": "code",
   "execution_count": null,
   "metadata": {},
   "outputs": [],
   "source": [
    "results = pd.concat([sarima_results, uc_results, es_results], ignore_index=True)\n",
    "results"
   ]
  },
  {
   "cell_type": "code",
   "execution_count": null,
   "metadata": {},
   "outputs": [],
   "source": [
    "sns.set_theme(style=\"whitegrid\")\n",
    "\n",
    "fig, axes = plt.subplots(3, 3, figsize=(15, 15))\n",
    "\n",
    "sns.boxenplot(data=results[results['frequency'] == 'T'], x='model', y='ctd_100', hue='category', ax=axes[0, 0], showfliers=False)\n",
    "sns.boxenplot(data=results[results['frequency'] == 'T'], x='model', y='ctd_200', hue='category', ax=axes[0, 1], showfliers=False)\n",
    "sns.boxenplot(data=results[results['frequency'] == 'T'], x='model', y='ctd_300', hue='category', ax=axes[0, 2], showfliers=False)\n",
    "\n",
    "sns.boxenplot(data=results[results['frequency'] == 'H'], x='model', y='ctd_100', hue='category', ax=axes[1, 0], showfliers=False)\n",
    "sns.boxenplot(data=results[results['frequency'] == 'H'], x='model', y='ctd_200', hue='category', ax=axes[1, 1], showfliers=False)\n",
    "sns.boxenplot(data=results[results['frequency'] == 'H'], x='model', y='ctd_300', hue='category', ax=axes[1, 2], showfliers=False)\n",
    "\n",
    "sns.boxenplot(data=results[results['frequency'] == 'D'], x='model', y='ctd_100', hue='category', ax=axes[2, 0], showfliers=False)\n",
    "sns.boxenplot(data=results[results['frequency'] == 'D'], x='model', y='ctd_200', hue='category', ax=axes[2, 1], showfliers=False)\n",
    "sns.boxenplot(data=results[results['frequency'] == 'D'], x='model', y='ctd_300', hue='category', ax=axes[2, 2], showfliers=False)\n",
    "\n",
    "plt.tight_layout()\n",
    "plt.show()"
   ]
  },
  {
   "cell_type": "markdown",
   "metadata": {},
   "source": [
    "# Activitiy types"
   ]
  },
  {
   "cell_type": "code",
   "execution_count": null,
   "metadata": {},
   "outputs": [],
   "source": [
    "random_user = data['contributor'].sample().values[0]\n",
    "\n",
    "contributor = (\n",
    "    data[data['contributor'] == random_user]\n",
    "    .reset_index(drop=True)[['activity', 'date']]\n",
    "    .groupby([pd.Grouper(key='date', freq='D'), 'activity'])['activity']\n",
    "    .count()\n",
    "    .reset_index(name='n_activities')\n",
    "    .set_index('date')\n",
    "    .rename_axis(None)\n",
    "    .pivot(columns='activity', values='n_activities')\n",
    "    .fillna(0)\n",
    "    .astype(int)\n",
    ")\n",
    "contributor.insert(0, 'n_activities', contributor.sum(axis=1))\n",
    "\n",
    "plt.figure(figsize=(16, 6))\n",
    "sns.lineplot(data=contributor, palette=\"tab10\")\n",
    "plt.xlabel('Timestamp')\n",
    "plt.ylabel('Number of Activities')\n",
    "plt.title('Activities Over Time for {}'.format(random_user))\n",
    "plt.xticks(rotation=45)\n",
    "plt.show()"
   ]
  }
 ],
 "metadata": {
  "kernelspec": {
   "display_name": "Python 3",
   "language": "python",
   "name": "python3"
  },
  "language_info": {
   "codemirror_mode": {
    "name": "ipython",
    "version": 3
   },
   "file_extension": ".py",
   "mimetype": "text/x-python",
   "name": "python",
   "nbconvert_exporter": "python",
   "pygments_lexer": "ipython3",
   "version": "3.11.5"
  }
 },
 "nbformat": 4,
 "nbformat_minor": 2
}
