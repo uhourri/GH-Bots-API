{
 "cells": [
  {
   "cell_type": "markdown",
   "metadata": {},
   "source": [
    "# Libraries and data importing"
   ]
  },
  {
   "cell_type": "markdown",
   "metadata": {},
   "source": [
    "Importing packages"
   ]
  },
  {
   "cell_type": "code",
   "execution_count": 1,
   "metadata": {},
   "outputs": [],
   "source": [
    "import pandas as pd\n",
    "import numpy as np\n",
    "import matplotlib.pyplot as plt\n",
    "import seaborn as sns"
   ]
  },
  {
   "cell_type": "code",
   "execution_count": 2,
   "metadata": {},
   "outputs": [],
   "source": [
    "from statsmodels.tsa.statespace.sarimax import SARIMAX\n",
    "from statsmodels.tsa.statespace.structural import UnobservedComponents\n",
    "from statsmodels.tsa.exponential_smoothing.ets import ETSModel\n",
    "from statsmodels.tsa.stattools import acf, pacf"
   ]
  },
  {
   "cell_type": "code",
   "execution_count": 3,
   "metadata": {},
   "outputs": [],
   "source": [
    "from sklearn.metrics import r2_score, mean_absolute_error"
   ]
  },
  {
   "cell_type": "markdown",
   "metadata": {},
   "source": [
    "Importing data"
   ]
  },
  {
   "cell_type": "code",
   "execution_count": 4,
   "metadata": {},
   "outputs": [
    {
     "data": {
      "text/html": [
       "<div>\n",
       "<style scoped>\n",
       "    .dataframe tbody tr th:only-of-type {\n",
       "        vertical-align: middle;\n",
       "    }\n",
       "\n",
       "    .dataframe tbody tr th {\n",
       "        vertical-align: top;\n",
       "    }\n",
       "\n",
       "    .dataframe thead th {\n",
       "        text-align: right;\n",
       "    }\n",
       "</style>\n",
       "<table border=\"1\" class=\"dataframe\">\n",
       "  <thead>\n",
       "    <tr style=\"text-align: right;\">\n",
       "      <th></th>\n",
       "      <th>contributor</th>\n",
       "      <th>category</th>\n",
       "      <th>repository</th>\n",
       "      <th>activity</th>\n",
       "      <th>date</th>\n",
       "    </tr>\n",
       "  </thead>\n",
       "  <tbody>\n",
       "    <tr>\n",
       "      <th>0</th>\n",
       "      <td>AmplabJenkins</td>\n",
       "      <td>bot</td>\n",
       "      <td>apache/spark</td>\n",
       "      <td>Commenting pull request</td>\n",
       "      <td>2022-11-25 09:55:19+00:00</td>\n",
       "    </tr>\n",
       "    <tr>\n",
       "      <th>1</th>\n",
       "      <td>AmplabJenkins</td>\n",
       "      <td>bot</td>\n",
       "      <td>apache/spark</td>\n",
       "      <td>Commenting pull request</td>\n",
       "      <td>2022-11-25 09:55:23+00:00</td>\n",
       "    </tr>\n",
       "    <tr>\n",
       "      <th>2</th>\n",
       "      <td>AmplabJenkins</td>\n",
       "      <td>bot</td>\n",
       "      <td>apache/spark</td>\n",
       "      <td>Commenting pull request</td>\n",
       "      <td>2022-11-25 09:55:26+00:00</td>\n",
       "    </tr>\n",
       "    <tr>\n",
       "      <th>3</th>\n",
       "      <td>analysis-bot</td>\n",
       "      <td>bot</td>\n",
       "      <td>facebook/react-native</td>\n",
       "      <td>Commenting pull request</td>\n",
       "      <td>2022-11-25 09:55:27+00:00</td>\n",
       "    </tr>\n",
       "    <tr>\n",
       "      <th>4</th>\n",
       "      <td>neos-bot</td>\n",
       "      <td>bot</td>\n",
       "      <td>neos/neos-ui-compiled</td>\n",
       "      <td>Pushing commits</td>\n",
       "      <td>2022-11-25 09:55:47+00:00</td>\n",
       "    </tr>\n",
       "    <tr>\n",
       "      <th>...</th>\n",
       "      <td>...</td>\n",
       "      <td>...</td>\n",
       "      <td>...</td>\n",
       "      <td>...</td>\n",
       "      <td>...</td>\n",
       "    </tr>\n",
       "    <tr>\n",
       "      <th>1015418</th>\n",
       "      <td>798388</td>\n",
       "      <td>human</td>\n",
       "      <td>879434</td>\n",
       "      <td>Reviewing code</td>\n",
       "      <td>2023-04-15 16:06:15+00:00</td>\n",
       "    </tr>\n",
       "    <tr>\n",
       "      <th>1015419</th>\n",
       "      <td>798388</td>\n",
       "      <td>human</td>\n",
       "      <td>879434</td>\n",
       "      <td>Reviewing code</td>\n",
       "      <td>2023-04-15 16:07:26+00:00</td>\n",
       "    </tr>\n",
       "    <tr>\n",
       "      <th>1015420</th>\n",
       "      <td>784775</td>\n",
       "      <td>human</td>\n",
       "      <td>643744</td>\n",
       "      <td>Creating branch</td>\n",
       "      <td>2023-04-15 16:07:33+00:00</td>\n",
       "    </tr>\n",
       "    <tr>\n",
       "      <th>1015421</th>\n",
       "      <td>784775</td>\n",
       "      <td>human</td>\n",
       "      <td>888378</td>\n",
       "      <td>Opening pull request</td>\n",
       "      <td>2023-04-15 16:08:07+00:00</td>\n",
       "    </tr>\n",
       "    <tr>\n",
       "      <th>1015422</th>\n",
       "      <td>387854</td>\n",
       "      <td>human</td>\n",
       "      <td>956848</td>\n",
       "      <td>Forking repository</td>\n",
       "      <td>2023-04-15 16:14:22+00:00</td>\n",
       "    </tr>\n",
       "  </tbody>\n",
       "</table>\n",
       "<p>1015423 rows × 5 columns</p>\n",
       "</div>"
      ],
      "text/plain": [
       "           contributor category             repository  \\\n",
       "0        AmplabJenkins      bot           apache/spark   \n",
       "1        AmplabJenkins      bot           apache/spark   \n",
       "2        AmplabJenkins      bot           apache/spark   \n",
       "3         analysis-bot      bot  facebook/react-native   \n",
       "4             neos-bot      bot  neos/neos-ui-compiled   \n",
       "...                ...      ...                    ...   \n",
       "1015418         798388    human                 879434   \n",
       "1015419         798388    human                 879434   \n",
       "1015420         784775    human                 643744   \n",
       "1015421         784775    human                 888378   \n",
       "1015422         387854    human                 956848   \n",
       "\n",
       "                        activity                      date  \n",
       "0        Commenting pull request 2022-11-25 09:55:19+00:00  \n",
       "1        Commenting pull request 2022-11-25 09:55:23+00:00  \n",
       "2        Commenting pull request 2022-11-25 09:55:26+00:00  \n",
       "3        Commenting pull request 2022-11-25 09:55:27+00:00  \n",
       "4                Pushing commits 2022-11-25 09:55:47+00:00  \n",
       "...                          ...                       ...  \n",
       "1015418           Reviewing code 2023-04-15 16:06:15+00:00  \n",
       "1015419           Reviewing code 2023-04-15 16:07:26+00:00  \n",
       "1015420          Creating branch 2023-04-15 16:07:33+00:00  \n",
       "1015421     Opening pull request 2023-04-15 16:08:07+00:00  \n",
       "1015422       Forking repository 2023-04-15 16:14:22+00:00  \n",
       "\n",
       "[1015423 rows x 5 columns]"
      ]
     },
     "execution_count": 4,
     "metadata": {},
     "output_type": "execute_result"
    }
   ],
   "source": [
    "activities = pd.read_parquet('../data-raw/activities.parquet')\n",
    "activities"
   ]
  },
  {
   "cell_type": "markdown",
   "metadata": {},
   "source": [
    "Adding artifitial bots"
   ]
  },
  {
   "cell_type": "code",
   "execution_count": null,
   "metadata": {},
   "outputs": [],
   "source": [
    "sgl_bot_1 = ['lgtm-com[bot]', 'codeclimate[bot]', 'adobe-bot', 'renovate-approve-2[bot]', 'openshift-cherrypick-robot', 'sourcegraph-bot', 'delete-merged-branch[bot]', 'aws-cdk-automation', 'sprucelabs-ci', 'swift-ci', 'blathers-crl[bot]', 'codesandbox[bot]', 'gitguardian[bot]', 'restyled-io[bot]', 'ballerina-bot', 'r-ryantm', 'nextcloud-bot', 'bot-gradle', 'dotnet-bot', 'edx-requirements-bot', 'sagemaker-bot', 'engine-flutter-autoroll', 'google-oss-bot', 'mumukibot', 'skia-flutter-autoroll', 'docker-library-bot', 'review-notebook-app[bot]', 'nodejs-github-bot', 'rust-timer', 'welcome[bot]', 'rultor', 'gatsby-cloud[bot]', 'openhab-bot', 'graalvmbot', 'apmmachine', 'submariner-bot', 'metamaskbot', 'jetstack-bot', 'fluttergithubbot', 'flinkbot', 'violinist-bot', 'softwarefactory-project-zuul[bot]', 'mm-cloud-bot', 'elife-bot', 'cf-gitbot', 'wso2-jenkins-bot', 'linux-foundation-easycla[bot]', 'jitsi-jenkins', 'vc-ci', 'rustbot', 'bors-servo', 'guardrails[bot]', 'usercont-release-bot', 'nur-bot', 'metal3-io-bot', 'repo-ranger[bot]', 'status-im-auto', 'hft-team-city', 'vscode-issue-tracker-bot', 'backportbot-nextcloud[bot]', 'forking-renovate[bot]', 'cla-bot[bot]', 'google-ml-butler[bot]', 'angular-automatic-lock-bot[bot]', 'livingdocs-automation', 'niveristand-diff-bot', 'cypress-bot[bot]', 'miss-islington', 'aporeto-bot', 'getsentry-bot', 'devOpsHazelcast', 'fossabot', 'pirate-bot', 'cozy-bot', 'ibmdotcom-bot', 'ninjadotorg-bot', 'dontcallmedom-bot', 'pytorchbot', 'hasura-bot', 'mender-test-bot', 'translatewiki', 'graviteeio', 'vtex-io-ci-cd[bot]', 'mister-roboto', 'octokit-fixture-user-a', 'robot-clickhouse', 'nacho-bot', 'CrowdinBot', 'ks-ci-bot', 'netkan-bot', 'AppVeyorBot', 'moz-wptsync-bot', 'bedevere-bot', 'Code-Inside-Bot', 'openssl-machine', 'vmwclabot', 'soloio-bot', 'stakater-user', 'boring-cyborg[bot]', 'hashicorp-cla', 'pdfjsbot', 'scrutinizer-notifier', 'taichi-gardener', 'confs-tech-bot', 'dotnet-maestro-bot', 'bluespice-github-bot', 'oll-bot', 'edx-transifex-bot', 'jbosstm-bot', 'kubevirt-commenter-bot', 'spinnakerbot', 'istio-policy-bot', 'sentry-io[bot]', 'minikube-bot', 'qmk-bot', 'gitpod-io[bot]', 'cheminfo-bot', 'minio-trusted', 'agones-bot', 'dotnet-issue-labeler[bot]', 'DrahtBot', 'addonsbot', 'alluxio-bot', 'similar-code-searcher[bot]', 'ansibot', 'tykbot[bot]', 'dlang-bot', 'va-bot', 'johnpbloch-bot', 'analysis-bot', 'lingohub[bot]', 'neos-bot', 'ionitron-bot[bot]', 'minikube-pr-bot', 'vtex-io-docs-bot[bot]', 'pantheon-ci-bot', 'bits-bot', 'knative-prow-robot', 'PJBot', 'pivotal-cla', 'fire-bot', 'garybot2', 'release-drafter[bot]', '0crat', 'octokitbot', 'carsonbot', 'wet-boew-bot', 'thundernest-bot', 'cmsdmwmbot', 'jujubot', 'salesforce-cla[bot]', 'spring-builds', 'sre-bot', 'jenkins-x-bot-test', 'nodebb-misty']\n",
    "sgl_bot_2 = ['lgtm-com[bot]', 'codeclimate[bot]', 'adobe-bot', 'renovate-approve-2[bot]', 'openshift-cherrypick-robot', 'sourcegraph-bot', 'delete-merged-branch[bot]', 'aws-cdk-automation', 'sprucelabs-ci', 'swift-ci', 'blathers-crl[bot]', 'codesandbox[bot]', 'gitguardian[bot]', 'restyled-io[bot]', 'ballerina-bot', 'r-ryantm', 'nextcloud-bot', 'bot-gradle', 'dotnet-bot', 'edx-requirements-bot', 'sagemaker-bot', 'engine-flutter-autoroll', 'google-oss-bot', 'mumukibot', 'skia-flutter-autoroll', 'docker-library-bot', 'review-notebook-app[bot]', 'nodejs-github-bot', 'rust-timer', 'welcome[bot]', 'rultor', 'gatsby-cloud[bot]', 'openhab-bot', 'graalvmbot', 'apmmachine', 'submariner-bot', 'metamaskbot', 'jetstack-bot', 'fluttergithubbot', 'flinkbot', 'violinist-bot', 'softwarefactory-project-zuul[bot]', 'mm-cloud-bot', 'elife-bot', 'cf-gitbot', 'wso2-jenkins-bot', 'linux-foundation-easycla[bot]', 'jitsi-jenkins', 'vc-ci', 'rustbot', 'bors-servo', 'guardrails[bot]', 'usercont-release-bot', 'nur-bot', 'metal3-io-bot', 'repo-ranger[bot]', 'status-im-auto', 'hft-team-city', 'vscode-issue-tracker-bot', 'backportbot-nextcloud[bot]', 'forking-renovate[bot]', 'cla-bot[bot]', 'google-ml-butler[bot]', 'angular-automatic-lock-bot[bot]', 'livingdocs-automation', 'niveristand-diff-bot', 'cypress-bot[bot]', 'miss-islington', 'aporeto-bot', 'getsentry-bot', 'devOpsHazelcast', 'fossabot']\n",
    "sgl_bot_3 = ['pirate-bot', 'cozy-bot', 'ibmdotcom-bot', 'ninjadotorg-bot', 'dontcallmedom-bot', 'pytorchbot', 'hasura-bot', 'mender-test-bot', 'translatewiki', 'graviteeio', 'vtex-io-ci-cd[bot]', 'mister-roboto', 'octokit-fixture-user-a', 'robot-clickhouse', 'nacho-bot', 'CrowdinBot', 'ks-ci-bot', 'netkan-bot', 'AppVeyorBot', 'moz-wptsync-bot', 'bedevere-bot', 'Code-Inside-Bot', 'openssl-machine', 'vmwclabot', 'soloio-bot', 'stakater-user', 'boring-cyborg[bot]', 'hashicorp-cla', 'pdfjsbot', 'scrutinizer-notifier', 'taichi-gardener', 'confs-tech-bot', 'dotnet-maestro-bot', 'bluespice-github-bot', 'oll-bot', 'edx-transifex-bot', 'jbosstm-bot', 'kubevirt-commenter-bot', 'spinnakerbot', 'istio-policy-bot', 'sentry-io[bot]', 'minikube-bot', 'qmk-bot', 'gitpod-io[bot]', 'cheminfo-bot', 'minio-trusted', 'agones-bot', 'dotnet-issue-labeler[bot]', 'DrahtBot', 'addonsbot', 'alluxio-bot', 'similar-code-searcher[bot]', 'ansibot', 'tykbot[bot]', 'dlang-bot', 'va-bot', 'johnpbloch-bot', 'analysis-bot', 'lingohub[bot]', 'neos-bot', 'ionitron-bot[bot]', 'minikube-pr-bot', 'vtex-io-docs-bot[bot]', 'pantheon-ci-bot', 'bits-bot', 'knative-prow-robot', 'PJBot', 'pivotal-cla', 'fire-bot', 'garybot2', 'release-drafter[bot]', '0crat', 'octokitbot', 'carsonbot', 'wet-boew-bot', 'thundernest-bot', 'cmsdmwmbot', 'jujubot', 'salesforce-cla[bot]', 'spring-builds', 'sre-bot', 'jenkins-x-bot-test', 'nodebb-misty']\n",
    "\n",
    "extended_activities = (\n",
    "    pd.concat(\n",
    "        [\n",
    "            activities, \n",
    "            activities[activities['contributor'].isin(sgl_bot_1)].assign(contributor='sgl-bot-1'),\n",
    "            activities[activities['contributor'].isin(sgl_bot_2)].assign(contributor='sgl-bot-2'),\n",
    "            activities[activities['contributor'].isin(sgl_bot_3)].assign(contributor='sgl-bot-3')\n",
    "        ], \n",
    "        ignore_index=True\n",
    "    )\n",
    ")\n",
    "extended_activities"
   ]
  },
  {
   "cell_type": "markdown",
   "metadata": {},
   "source": [
    "600 events for each contributor"
   ]
  },
  {
   "cell_type": "code",
   "execution_count": 5,
   "metadata": {},
   "outputs": [
    {
     "data": {
      "text/html": [
       "<div>\n",
       "<style scoped>\n",
       "    .dataframe tbody tr th:only-of-type {\n",
       "        vertical-align: middle;\n",
       "    }\n",
       "\n",
       "    .dataframe tbody tr th {\n",
       "        vertical-align: top;\n",
       "    }\n",
       "\n",
       "    .dataframe thead th {\n",
       "        text-align: right;\n",
       "    }\n",
       "</style>\n",
       "<table border=\"1\" class=\"dataframe\">\n",
       "  <thead>\n",
       "    <tr style=\"text-align: right;\">\n",
       "      <th></th>\n",
       "      <th>contributor</th>\n",
       "      <th>category</th>\n",
       "      <th>repository</th>\n",
       "      <th>activity</th>\n",
       "      <th>date</th>\n",
       "    </tr>\n",
       "  </thead>\n",
       "  <tbody>\n",
       "    <tr>\n",
       "      <th>365</th>\n",
       "      <td>nodebb-misty</td>\n",
       "      <td>bot</td>\n",
       "      <td>julianlam/nodebb-plugin-email-helper</td>\n",
       "      <td>Closing pull request</td>\n",
       "      <td>2022-11-25 11:08:46+00:00</td>\n",
       "    </tr>\n",
       "    <tr>\n",
       "      <th>409</th>\n",
       "      <td>nodebb-misty</td>\n",
       "      <td>bot</td>\n",
       "      <td>NodeBB/nodebb-plugin-topic-redirect</td>\n",
       "      <td>Closing pull request</td>\n",
       "      <td>2022-11-25 11:20:10+00:00</td>\n",
       "    </tr>\n",
       "    <tr>\n",
       "      <th>417</th>\n",
       "      <td>nodebb-misty</td>\n",
       "      <td>bot</td>\n",
       "      <td>NodeBB/nodebb-plugin-write-api</td>\n",
       "      <td>Closing pull request</td>\n",
       "      <td>2022-11-25 11:21:23+00:00</td>\n",
       "    </tr>\n",
       "    <tr>\n",
       "      <th>523</th>\n",
       "      <td>nodebb-misty</td>\n",
       "      <td>bot</td>\n",
       "      <td>julianlam/nodebb-plugin-sso-oauth</td>\n",
       "      <td>Closing pull request</td>\n",
       "      <td>2022-11-25 11:47:30+00:00</td>\n",
       "    </tr>\n",
       "    <tr>\n",
       "      <th>5518</th>\n",
       "      <td>jenkins-x-bot-test</td>\n",
       "      <td>bot</td>\n",
       "      <td>jenkins-x-charts/jxboot-helmfile-resources</td>\n",
       "      <td>Creating branch</td>\n",
       "      <td>2022-11-26 19:57:10+00:00</td>\n",
       "    </tr>\n",
       "    <tr>\n",
       "      <th>...</th>\n",
       "      <td>...</td>\n",
       "      <td>...</td>\n",
       "      <td>...</td>\n",
       "      <td>...</td>\n",
       "      <td>...</td>\n",
       "    </tr>\n",
       "    <tr>\n",
       "      <th>1015418</th>\n",
       "      <td>798388</td>\n",
       "      <td>human</td>\n",
       "      <td>879434</td>\n",
       "      <td>Reviewing code</td>\n",
       "      <td>2023-04-15 16:06:15+00:00</td>\n",
       "    </tr>\n",
       "    <tr>\n",
       "      <th>1015419</th>\n",
       "      <td>798388</td>\n",
       "      <td>human</td>\n",
       "      <td>879434</td>\n",
       "      <td>Reviewing code</td>\n",
       "      <td>2023-04-15 16:07:26+00:00</td>\n",
       "    </tr>\n",
       "    <tr>\n",
       "      <th>1015420</th>\n",
       "      <td>784775</td>\n",
       "      <td>human</td>\n",
       "      <td>643744</td>\n",
       "      <td>Creating branch</td>\n",
       "      <td>2023-04-15 16:07:33+00:00</td>\n",
       "    </tr>\n",
       "    <tr>\n",
       "      <th>1015421</th>\n",
       "      <td>784775</td>\n",
       "      <td>human</td>\n",
       "      <td>888378</td>\n",
       "      <td>Opening pull request</td>\n",
       "      <td>2023-04-15 16:08:07+00:00</td>\n",
       "    </tr>\n",
       "    <tr>\n",
       "      <th>1015422</th>\n",
       "      <td>387854</td>\n",
       "      <td>human</td>\n",
       "      <td>956848</td>\n",
       "      <td>Forking repository</td>\n",
       "      <td>2023-04-15 16:14:22+00:00</td>\n",
       "    </tr>\n",
       "  </tbody>\n",
       "</table>\n",
       "<p>162000 rows × 5 columns</p>\n",
       "</div>"
      ],
      "text/plain": [
       "                contributor category  \\\n",
       "365            nodebb-misty      bot   \n",
       "409            nodebb-misty      bot   \n",
       "417            nodebb-misty      bot   \n",
       "523            nodebb-misty      bot   \n",
       "5518     jenkins-x-bot-test      bot   \n",
       "...                     ...      ...   \n",
       "1015418              798388    human   \n",
       "1015419              798388    human   \n",
       "1015420              784775    human   \n",
       "1015421              784775    human   \n",
       "1015422              387854    human   \n",
       "\n",
       "                                         repository              activity  \\\n",
       "365            julianlam/nodebb-plugin-email-helper  Closing pull request   \n",
       "409             NodeBB/nodebb-plugin-topic-redirect  Closing pull request   \n",
       "417                  NodeBB/nodebb-plugin-write-api  Closing pull request   \n",
       "523               julianlam/nodebb-plugin-sso-oauth  Closing pull request   \n",
       "5518     jenkins-x-charts/jxboot-helmfile-resources       Creating branch   \n",
       "...                                             ...                   ...   \n",
       "1015418                                      879434        Reviewing code   \n",
       "1015419                                      879434        Reviewing code   \n",
       "1015420                                      643744       Creating branch   \n",
       "1015421                                      888378  Opening pull request   \n",
       "1015422                                      956848    Forking repository   \n",
       "\n",
       "                             date  \n",
       "365     2022-11-25 11:08:46+00:00  \n",
       "409     2022-11-25 11:20:10+00:00  \n",
       "417     2022-11-25 11:21:23+00:00  \n",
       "523     2022-11-25 11:47:30+00:00  \n",
       "5518    2022-11-26 19:57:10+00:00  \n",
       "...                           ...  \n",
       "1015418 2023-04-15 16:06:15+00:00  \n",
       "1015419 2023-04-15 16:07:26+00:00  \n",
       "1015420 2023-04-15 16:07:33+00:00  \n",
       "1015421 2023-04-15 16:08:07+00:00  \n",
       "1015422 2023-04-15 16:14:22+00:00  \n",
       "\n",
       "[162000 rows x 5 columns]"
      ]
     },
     "execution_count": 5,
     "metadata": {},
     "output_type": "execute_result"
    }
   ],
   "source": [
    "data = ( \n",
    "    activities\n",
    "    # keep the last 600 events for each contributor\n",
    "    .groupby('contributor')\n",
    "    .tail(600)\n",
    "    # keep the contributors who have 600 events\n",
    "    .groupby('contributor')\n",
    "    .filter(lambda x: len(x) == 600)\n",
    ")\n",
    "data"
   ]
  },
  {
   "cell_type": "markdown",
   "metadata": {},
   "source": [
    "# Evaluation metrics"
   ]
  },
  {
   "cell_type": "code",
   "execution_count": 6,
   "metadata": {},
   "outputs": [],
   "source": [
    "def pga_score(y_true, y_pred):\n",
    "    return (y_pred >= y_true).mean()"
   ]
  },
  {
   "cell_type": "code",
   "execution_count": 7,
   "metadata": {},
   "outputs": [],
   "source": [
    "def ctd_score(y_true, y_pred, target_value):\n",
    "\n",
    "    true_cumsum, pred_cumsum = np.cumsum(y_true), np.cumsum(y_pred)\n",
    "    time_true, time_pred = np.argmax(true_cumsum >= target_value), np.argmax(pred_cumsum >= target_value)\n",
    "\n",
    "    # display(true_cumsum.tolist(), pred_cumsum.tolist())\n",
    "\n",
    "\n",
    "    if sum(y_pred) < target_value:    # target value never reached in predictions\n",
    "        ctd = time_true - len(y_true)\n",
    "        flag = -1\n",
    "    elif sum(y_true) < target_value:      # target value never reached in reality\n",
    "        ctd = len(y_pred) - time_pred\n",
    "        flag = 0\n",
    "    else:\n",
    "        ctd = time_true - time_pred\n",
    "        flag = 1\n",
    "\n",
    "    return ctd, flag"
   ]
  },
  {
   "cell_type": "code",
   "execution_count": null,
   "metadata": {},
   "outputs": [],
   "source": [
    "true_values = [2, 11, 84, 57, 0, 38, 15, 80, 4, 30, 90, 0, 0, 500]\n",
    "pred_values = [52, 22, 95, 9, 11, 1, 73, 0, 30, 50, 2, 700, 3, 0]\n",
    "\n",
    "print(\"Cumulative Time Difference:\", ctd_score(true_values, pred_values, 1000))"
   ]
  },
  {
   "cell_type": "markdown",
   "metadata": {},
   "source": [
    "# Time ranges"
   ]
  },
  {
   "cell_type": "code",
   "execution_count": 8,
   "metadata": {},
   "outputs": [
    {
     "data": {
      "text/html": [
       "<div>\n",
       "<style scoped>\n",
       "    .dataframe tbody tr th:only-of-type {\n",
       "        vertical-align: middle;\n",
       "    }\n",
       "\n",
       "    .dataframe tbody tr th {\n",
       "        vertical-align: top;\n",
       "    }\n",
       "\n",
       "    .dataframe thead th {\n",
       "        text-align: right;\n",
       "    }\n",
       "</style>\n",
       "<table border=\"1\" class=\"dataframe\">\n",
       "  <thead>\n",
       "    <tr style=\"text-align: right;\">\n",
       "      <th></th>\n",
       "      <th>category</th>\n",
       "      <th>contributor</th>\n",
       "      <th>duration</th>\n",
       "    </tr>\n",
       "  </thead>\n",
       "  <tbody>\n",
       "    <tr>\n",
       "      <th>77</th>\n",
       "      <td>bot</td>\n",
       "      <td>lgtm-com[bot]</td>\n",
       "      <td>36</td>\n",
       "    </tr>\n",
       "    <tr>\n",
       "      <th>30</th>\n",
       "      <td>bot</td>\n",
       "      <td>codeclimate[bot]</td>\n",
       "      <td>48</td>\n",
       "    </tr>\n",
       "    <tr>\n",
       "      <th>7</th>\n",
       "      <td>bot</td>\n",
       "      <td>adobe-bot</td>\n",
       "      <td>55</td>\n",
       "    </tr>\n",
       "    <tr>\n",
       "      <th>115</th>\n",
       "      <td>bot</td>\n",
       "      <td>renovate-approve-2[bot]</td>\n",
       "      <td>61</td>\n",
       "    </tr>\n",
       "    <tr>\n",
       "      <th>105</th>\n",
       "      <td>bot</td>\n",
       "      <td>openshift-cherrypick-robot</td>\n",
       "      <td>64</td>\n",
       "    </tr>\n",
       "    <tr>\n",
       "      <th>...</th>\n",
       "      <td>...</td>\n",
       "      <td>...</td>\n",
       "      <td>...</td>\n",
       "    </tr>\n",
       "    <tr>\n",
       "      <th>135</th>\n",
       "      <td>bot</td>\n",
       "      <td>sre-bot</td>\n",
       "      <td>3237</td>\n",
       "    </tr>\n",
       "    <tr>\n",
       "      <th>219</th>\n",
       "      <td>human</td>\n",
       "      <td>748599</td>\n",
       "      <td>3278</td>\n",
       "    </tr>\n",
       "    <tr>\n",
       "      <th>157</th>\n",
       "      <td>human</td>\n",
       "      <td>353444</td>\n",
       "      <td>3287</td>\n",
       "    </tr>\n",
       "    <tr>\n",
       "      <th>69</th>\n",
       "      <td>bot</td>\n",
       "      <td>jenkins-x-bot-test</td>\n",
       "      <td>3340</td>\n",
       "    </tr>\n",
       "    <tr>\n",
       "      <th>98</th>\n",
       "      <td>bot</td>\n",
       "      <td>nodebb-misty</td>\n",
       "      <td>3378</td>\n",
       "    </tr>\n",
       "  </tbody>\n",
       "</table>\n",
       "<p>270 rows × 3 columns</p>\n",
       "</div>"
      ],
      "text/plain": [
       "    category                 contributor  duration\n",
       "77       bot               lgtm-com[bot]        36\n",
       "30       bot            codeclimate[bot]        48\n",
       "7        bot                   adobe-bot        55\n",
       "115      bot     renovate-approve-2[bot]        61\n",
       "105      bot  openshift-cherrypick-robot        64\n",
       "..       ...                         ...       ...\n",
       "135      bot                     sre-bot      3237\n",
       "219    human                      748599      3278\n",
       "157    human                      353444      3287\n",
       "69       bot          jenkins-x-bot-test      3340\n",
       "98       bot                nodebb-misty      3378\n",
       "\n",
       "[270 rows x 3 columns]"
      ]
     },
     "execution_count": 8,
     "metadata": {},
     "output_type": "execute_result"
    }
   ],
   "source": [
    "time_ranges = (\n",
    "    data\n",
    "    .groupby(['category', 'contributor'])['date']\n",
    "    .agg(lambda x: int((x.iat[-1] - x.iat[0]).total_seconds()/3600))\n",
    "    .reset_index(name='duration')\n",
    ")\n",
    "time_ranges.sort_values(by='duration')"
   ]
  },
  {
   "cell_type": "code",
   "execution_count": 9,
   "metadata": {},
   "outputs": [
    {
     "data": {
      "text/plain": [
       "<Axes: ylabel='duration'>"
      ]
     },
     "execution_count": 9,
     "metadata": {},
     "output_type": "execute_result"
    },
    {
     "data": {
      "image/png": "[encoded data removed]",
      "text/plain": [
       "<Figure size 640x480 with 1 Axes>"
      ]
     },
     "metadata": {},
     "output_type": "display_data"
    }
   ],
   "source": [
    "sns.boxenplot(time_ranges, y='duration', hue='category')"
   ]
  },
  {
   "cell_type": "markdown",
   "metadata": {},
   "source": [
    "Maps a range duration (in seconds) to frequency format."
   ]
  },
  {
   "cell_type": "code",
   "execution_count": 10,
   "metadata": {},
   "outputs": [],
   "source": [
    "def range_to_frequency(contributor):\n",
    "    \n",
    "    train = contributor.head(300)\n",
    "    train = train[train['date'] >= train['date'].max() - pd.DateOffset(months=3)]\n",
    "    mean_range_s = int((train['date'].iloc[-1] - train['date'].iloc[0]).total_seconds())//len(train)\n",
    "\n",
    "    if mean_range_s >= 60*60*24:\n",
    "        return 'D'\n",
    "    if mean_range_s >= 60*60:\n",
    "        mean_range_h = mean_range_s//3600\n",
    "        freq = 24//((24//mean_range_h)+1) if mean_range_h > 1 else 1\n",
    "        return str(freq)+'H'\n",
    "    elif mean_range_s >= 60:\n",
    "        mean_range_m = mean_range_s//60\n",
    "        freq = 60//((60//mean_range_m)+1) if mean_range_m > 1 else 1\n",
    "        return str(freq)+'T'\n",
    "    else:\n",
    "        freq = 60//((60//mean_range_s)+1)if mean_range_s > 1 else 1\n",
    "        return str(freq)+'S'"
   ]
  },
  {
   "cell_type": "markdown",
   "metadata": {},
   "source": [
    "Mapping seasonality"
   ]
  },
  {
   "cell_type": "code",
   "execution_count": 11,
   "metadata": {},
   "outputs": [],
   "source": [
    "def frequency_to_seasonality(freq):\n",
    "    if len(freq) == 1:\n",
    "        freq = '1'+freq\n",
    "\n",
    "    if freq[-1] == 'D':\n",
    "        return 7\n",
    "    elif freq[-1] == 'H':\n",
    "        return 24//int(freq[:-1])\n",
    "    elif freq[-1] == 'T':\n",
    "        return 24*(60//int(freq[:-1]))\n",
    "    else:\n",
    "        return None"
   ]
  },
  {
   "cell_type": "code",
   "execution_count": 43,
   "metadata": {},
   "outputs": [
    {
     "name": "stdout",
     "output_type": "stream",
     "text": [
      "vscode-issue-tracker-bot  ->  30T  ->  48\n"
     ]
    }
   ],
   "source": [
    "# Example usage:\n",
    "random_name = data['contributor'].sample().values[0]\n",
    "random_user = data[data['contributor'] == random_name]\n",
    "freq = range_to_frequency(random_user)\n",
    "print(random_name, ' -> ',freq, ' -> ', frequency_to_seasonality(freq))"
   ]
  },
  {
   "cell_type": "markdown",
   "metadata": {},
   "source": [
    "# Data splitting"
   ]
  },
  {
   "cell_type": "code",
   "execution_count": 16,
   "metadata": {},
   "outputs": [],
   "source": [
    "def split_activities(contributor):\n",
    "\n",
    "    frequency = range_to_frequency(contributor)\n",
    "\n",
    "    result = (\n",
    "        contributor\n",
    "        .groupby([pd.Grouper(key='date', freq=frequency)])['activity']\n",
    "        .count()\n",
    "        .reset_index(name='n_activities')\n",
    "        .set_index('date')\n",
    "        .resample(frequency)\n",
    "        .sum()\n",
    "        .rename_axis(None)\n",
    "        .assign(\n",
    "            cumsum_activities = lambda x: x['n_activities'].cumsum()\n",
    "        )\n",
    "    )\n",
    "\n",
    "    train, test = (\n",
    "        result[result['cumsum_activities'] <= 300]\n",
    "        .apply(lambda x : x[x.index >= x.index.max() - pd.DateOffset(months=3)])\n",
    "        .drop('cumsum_activities', axis=1),\n",
    "\n",
    "        result[result['cumsum_activities'] > 300]\n",
    "        .drop('cumsum_activities', axis=1)\n",
    "    )\n",
    "\n",
    "    return train, test"
   ]
  },
  {
   "cell_type": "code",
   "execution_count": 17,
   "metadata": {},
   "outputs": [
    {
     "data": {
      "text/plain": [
       "<Axes: >"
      ]
     },
     "execution_count": 17,
     "metadata": {},
     "output_type": "execute_result"
    },
    {
     "data": {
      "image/png": "[encoded data removed]",
      "text/plain": [
       "<Figure size 640x480 with 1 Axes>"
      ]
     },
     "metadata": {},
     "output_type": "display_data"
    }
   ],
   "source": [
    "train, test = split_activities(data[data['contributor'] == 'usercont-release-bot'])\n",
    "train.plot()"
   ]
  },
  {
   "cell_type": "markdown",
   "metadata": {},
   "source": [
    "# 1. Seasonal Autoregressive integrated Moving-average model"
   ]
  },
  {
   "cell_type": "code",
   "execution_count": null,
   "metadata": {},
   "outputs": [],
   "source": [
    "def sarima_model(contributor):\n",
    "\n",
    "    contributor_name = contributor['contributor'].iloc[0]\n",
    "    contributor_category = contributor['category'].iloc[0]\n",
    "    print(contributor_name)\n",
    "\n",
    "    train, test = split_activities(contributor)\n",
    "    freq = train.index.freq.freqstr\n",
    "\n",
    "    # choosing best number of lags (possible seasonality)\n",
    "    acf_values, _ = acf(train['n_activities'].values, nlags=int((len(train)/3)), alpha=0.05)\n",
    "    lags = np.argmax(acf_values[1:])+1\n",
    "\n",
    "    # choosing appropriate model parameters\n",
    "    if lags > 1:\n",
    "        order = (1, 1, 1)\n",
    "        seasonal_order = (1, 1, 1, lags)\n",
    "    else:\n",
    "        # for short time range, no seasonality\n",
    "        order = (int((len(train)/3)), 1, 0)\n",
    "        seasonal_order = None\n",
    "\n",
    "    model = SARIMAX(\n",
    "        train['n_activities'],\n",
    "        order = order,\n",
    "        seasonal_order = seasonal_order, \n",
    "        enforce_invertibility = True, \n",
    "        enforce_stationarity = False\n",
    "        ).fit(disp=False, method='lbfgs')\n",
    "\n",
    "    # Forecast the test set using confidence interval with 95%\n",
    "    predictions = model.get_prediction(start=len(train), end=len(train)+len(test)-1).summary_frame(alpha=0.05)\n",
    "\n",
    "    metrics = pd.Series({\n",
    "        'contributor': contributor_name,\n",
    "        'category': contributor_category,\n",
    "        'r2': r2_score(test['n_activities'], predictions['mean']),\n",
    "        'mae': mean_absolute_error(test['n_activities'], predictions['mean']),\n",
    "        'pga': pga_score(test['n_activities'], predictions['mean']),\n",
    "        'ctd_100': ctd_score(test['n_activities'], predictions['mean'], 100),\n",
    "        'ctd_200': ctd_score(test['n_activities'], predictions['mean'], 200),\n",
    "        'ctd_300': ctd_score(test['n_activities'], predictions['mean'], 300),\n",
    "        'n_activities': train['n_activities'].sum(),\n",
    "        'frequency': freq,\n",
    "        'data_points':len(train),\n",
    "        'lags':lags\n",
    "    })\n",
    "\n",
    "    return metrics"
   ]
  },
  {
   "cell_type": "code",
   "execution_count": 18,
   "metadata": {},
   "outputs": [],
   "source": [
    "def sarima_model(contributor):\n",
    "\n",
    "    contributor_name = contributor['contributor'].iloc[0]\n",
    "    contributor_category = contributor['category'].iloc[0]\n",
    "    train, test = split_activities(contributor)\n",
    "    freq = train.index.freq.freqstr\n",
    "    seasonality = frequency_to_seasonality(freq)\n",
    "\n",
    "    print(contributor_name, freq, seasonality)\n",
    "\n",
    "    # choosing best parameters (possible seasonality)\n",
    "    if seasonality and (len(train)//seasonality) >= 2:\n",
    "        order = (1, 1, 1)\n",
    "        seasonal_order = (1, 1, 1, seasonality)\n",
    "    else:\n",
    "        order = (int((len(train)/3)), 1, 0)\n",
    "        seasonal_order = None\n",
    "        seasonality = None\n",
    "\n",
    "    model = SARIMAX(\n",
    "        train['n_activities'],\n",
    "        order = order,\n",
    "        seasonal_order = seasonal_order, \n",
    "        enforce_invertibility = True, \n",
    "        enforce_stationarity = False\n",
    "        ).fit(disp=False, method='lbfgs')\n",
    "\n",
    "    # Forecast the test set using confidence interval with 95%\n",
    "    predictions = model.get_prediction(start=len(train), end=len(train)+len(test)-1).summary_frame(alpha=0.05)\n",
    "\n",
    "    metrics = pd.Series({\n",
    "        'contributor': contributor_name,\n",
    "        'category': contributor_category,\n",
    "        'r2': r2_score(test['n_activities'], predictions['mean']),\n",
    "        'mae': mean_absolute_error(test['n_activities'], predictions['mean']),\n",
    "        'pga': pga_score(test['n_activities'], predictions['mean']),\n",
    "        'ctd_100': ctd_score(test['n_activities'], predictions['mean'], 100)[0],\n",
    "        'ctd_200': ctd_score(test['n_activities'], predictions['mean'], 200)[0],\n",
    "        'ctd_300': ctd_score(test['n_activities'], predictions['mean'], 300)[0],\n",
    "        'flag_300': ctd_score(test['n_activities'], predictions['mean'], 300)[1],\n",
    "        'n_activities': train['n_activities'].sum(),\n",
    "        'frequency': freq,\n",
    "        'seasonality':seasonality,\n",
    "        'data_points':len(train),\n",
    "    })\n",
    "\n",
    "    return metrics"
   ]
  },
  {
   "cell_type": "code",
   "execution_count": 27,
   "metadata": {},
   "outputs": [
    {
     "name": "stdout",
     "output_type": "stream",
     "text": [
      "0crat H 24\n",
      "AppVeyorBot H 24\n",
      "Code-Inside-Bot H 24\n"
     ]
    },
    {
     "name": "stderr",
     "output_type": "stream",
     "text": [
      "/Library/Frameworks/Python.framework/Versions/3.11/lib/python3.11/site-packages/statsmodels/base/model.py:607: ConvergenceWarning: Maximum Likelihood optimization failed to converge. Check mle_retvals\n",
      "  warnings.warn(\"Maximum Likelihood optimization failed to \"\n"
     ]
    },
    {
     "name": "stdout",
     "output_type": "stream",
     "text": [
      "CrowdinBot H 24\n",
      "DrahtBot H 24\n",
      "PJBot 4H 6\n",
      "addonsbot 4H 6\n",
      "adobe-bot 3T 480\n"
     ]
    },
    {
     "name": "stderr",
     "output_type": "stream",
     "text": [
      "/Library/Frameworks/Python.framework/Versions/3.11/lib/python3.11/site-packages/statsmodels/base/model.py:607: ConvergenceWarning: Maximum Likelihood optimization failed to converge. Check mle_retvals\n",
      "  warnings.warn(\"Maximum Likelihood optimization failed to \"\n"
     ]
    },
    {
     "name": "stdout",
     "output_type": "stream",
     "text": [
      "agones-bot H 24\n",
      "alluxio-bot 2H 12\n"
     ]
    },
    {
     "name": "stderr",
     "output_type": "stream",
     "text": [
      "/Library/Frameworks/Python.framework/Versions/3.11/lib/python3.11/site-packages/statsmodels/base/model.py:607: ConvergenceWarning: Maximum Likelihood optimization failed to converge. Check mle_retvals\n",
      "  warnings.warn(\"Maximum Likelihood optimization failed to \"\n"
     ]
    },
    {
     "name": "stdout",
     "output_type": "stream",
     "text": [
      "analysis-bot 3H 8\n",
      "angular-automatic-lock-bot[bot] 30T 48\n"
     ]
    },
    {
     "name": "stderr",
     "output_type": "stream",
     "text": [
      "/Library/Frameworks/Python.framework/Versions/3.11/lib/python3.11/site-packages/statsmodels/base/model.py:607: ConvergenceWarning: Maximum Likelihood optimization failed to converge. Check mle_retvals\n",
      "  warnings.warn(\"Maximum Likelihood optimization failed to \"\n"
     ]
    },
    {
     "name": "stdout",
     "output_type": "stream",
     "text": [
      "ansibot 2H 12\n",
      "apmmachine 20T 72\n",
      "aporeto-bot H 24\n",
      "aws-cdk-automation 3T 480\n",
      "backportbot-nextcloud[bot] 30T 48\n",
      "ballerina-bot 10T 144\n"
     ]
    },
    {
     "name": "stderr",
     "output_type": "stream",
     "text": [
      "/Library/Frameworks/Python.framework/Versions/3.11/lib/python3.11/site-packages/statsmodels/tsa/statespace/sarimax.py:866: UserWarning: Too few observations to estimate starting parameters for seasonal ARMA. All parameters except for variances will be set to zeros.\n",
      "  warn('Too few observations to estimate starting parameters%s.'\n",
      "/Library/Frameworks/Python.framework/Versions/3.11/lib/python3.11/site-packages/statsmodels/base/model.py:607: ConvergenceWarning: Maximum Likelihood optimization failed to converge. Check mle_retvals\n",
      "  warnings.warn(\"Maximum Likelihood optimization failed to \"\n"
     ]
    },
    {
     "name": "stdout",
     "output_type": "stream",
     "text": [
      "bedevere-bot H 24\n",
      "bits-bot 3H 8\n",
      "blathers-crl[bot] 7T 192\n",
      "bluespice-github-bot H 24\n",
      "boring-cyborg[bot] H 24\n",
      "bors-servo 30T 48\n",
      "bot-gradle 20T 72\n",
      "carsonbot 4H 6\n",
      "cf-gitbot 30T 48\n",
      "cheminfo-bot H 24\n",
      "cla-bot[bot] 30T 48\n",
      "cmsdmwmbot 4H 6\n",
      "codeclimate[bot] 2T 720\n",
      "codesandbox[bot] 8T 168\n"
     ]
    },
    {
     "name": "stderr",
     "output_type": "stream",
     "text": [
      "/Library/Frameworks/Python.framework/Versions/3.11/lib/python3.11/site-packages/statsmodels/tsa/statespace/sarimax.py:866: UserWarning: Too few observations to estimate starting parameters for seasonal ARMA. All parameters except for variances will be set to zeros.\n",
      "  warn('Too few observations to estimate starting parameters%s.'\n"
     ]
    },
    {
     "name": "stdout",
     "output_type": "stream",
     "text": [
      "confs-tech-bot H 24\n",
      "cozy-bot H 24\n",
      "cypress-bot[bot] H 24\n",
      "delete-merged-branch[bot] 4T 360\n",
      "devOpsHazelcast 30T 48\n",
      "dlang-bot 2H 12\n",
      "docker-library-bot 30T 48\n",
      "dontcallmedom-bot H 24\n",
      "dotnet-bot 15T 96\n"
     ]
    },
    {
     "name": "stderr",
     "output_type": "stream",
     "text": [
      "/Library/Frameworks/Python.framework/Versions/3.11/lib/python3.11/site-packages/statsmodels/tsa/statespace/sarimax.py:1009: UserWarning: Non-invertible starting seasonal moving average Using zeros as starting parameters.\n",
      "  warn('Non-invertible starting seasonal moving average'\n"
     ]
    },
    {
     "name": "stdout",
     "output_type": "stream",
     "text": [
      "dotnet-issue-labeler[bot] H 24\n",
      "dotnet-maestro-bot H 24\n"
     ]
    },
    {
     "name": "stderr",
     "output_type": "stream",
     "text": [
      "/Library/Frameworks/Python.framework/Versions/3.11/lib/python3.11/site-packages/statsmodels/base/model.py:607: ConvergenceWarning: Maximum Likelihood optimization failed to converge. Check mle_retvals\n",
      "  warnings.warn(\"Maximum Likelihood optimization failed to \"\n"
     ]
    },
    {
     "name": "stdout",
     "output_type": "stream",
     "text": [
      "edx-requirements-bot 15T 96\n"
     ]
    },
    {
     "name": "stderr",
     "output_type": "stream",
     "text": [
      "/Library/Frameworks/Python.framework/Versions/3.11/lib/python3.11/site-packages/statsmodels/tsa/statespace/sarimax.py:866: UserWarning: Too few observations to estimate starting parameters for seasonal ARMA. All parameters except for variances will be set to zeros.\n",
      "  warn('Too few observations to estimate starting parameters%s.'\n"
     ]
    },
    {
     "name": "stdout",
     "output_type": "stream",
     "text": [
      "edx-transifex-bot H 24\n",
      "elife-bot 20T 72\n",
      "engine-flutter-autoroll 20T 72\n"
     ]
    },
    {
     "name": "stderr",
     "output_type": "stream",
     "text": [
      "/Library/Frameworks/Python.framework/Versions/3.11/lib/python3.11/site-packages/statsmodels/tsa/statespace/sarimax.py:1009: UserWarning: Non-invertible starting seasonal moving average Using zeros as starting parameters.\n",
      "  warn('Non-invertible starting seasonal moving average'\n"
     ]
    },
    {
     "name": "stdout",
     "output_type": "stream",
     "text": [
      "fire-bot 4H 6\n",
      "flinkbot 20T 72\n",
      "fluttergithubbot 30T 48\n",
      "forking-renovate[bot] 30T 48\n",
      "fossabot H 24\n",
      "garybot2 4H 6\n",
      "gatsby-cloud[bot] 20T 72\n",
      "getsentry-bot H 24\n",
      "gitguardian[bot] 10T 144\n"
     ]
    },
    {
     "name": "stderr",
     "output_type": "stream",
     "text": [
      "/Library/Frameworks/Python.framework/Versions/3.11/lib/python3.11/site-packages/statsmodels/tsa/statespace/sarimax.py:866: UserWarning: Too few observations to estimate starting parameters for seasonal ARMA. All parameters except for variances will be set to zeros.\n",
      "  warn('Too few observations to estimate starting parameters%s.'\n"
     ]
    },
    {
     "name": "stdout",
     "output_type": "stream",
     "text": [
      "gitpod-io[bot] 30T 48\n",
      "google-ml-butler[bot] H 24\n",
      "google-oss-bot 20T 72\n",
      "graalvmbot 20T 72\n",
      "graviteeio 30T 48\n",
      "guardrails[bot] 30T 48\n",
      "hashicorp-cla H 24\n",
      "hasura-bot H 24\n",
      "hft-team-city H 24\n",
      "ibmdotcom-bot H 24\n"
     ]
    },
    {
     "name": "stderr",
     "output_type": "stream",
     "text": [
      "/Library/Frameworks/Python.framework/Versions/3.11/lib/python3.11/site-packages/statsmodels/tsa/statespace/sarimax.py:978: UserWarning: Non-invertible starting MA parameters found. Using zeros as starting parameters.\n",
      "  warn('Non-invertible starting MA parameters found.'\n"
     ]
    },
    {
     "name": "stdout",
     "output_type": "stream",
     "text": [
      "ionitron-bot[bot] 3H 8\n",
      "istio-policy-bot H 24\n",
      "jbosstm-bot 2H 12\n",
      "jenkins-x-bot-test 6H 4\n",
      "jetstack-bot 30T 48\n",
      "jitsi-jenkins 30T 48\n"
     ]
    },
    {
     "name": "stderr",
     "output_type": "stream",
     "text": [
      "/Library/Frameworks/Python.framework/Versions/3.11/lib/python3.11/site-packages/statsmodels/tsa/statespace/sarimax.py:978: UserWarning: Non-invertible starting MA parameters found. Using zeros as starting parameters.\n",
      "  warn('Non-invertible starting MA parameters found.'\n"
     ]
    },
    {
     "name": "stdout",
     "output_type": "stream",
     "text": [
      "johnpbloch-bot 2H 12\n",
      "jujubot 4H 6\n",
      "knative-prow-robot 3H 8\n",
      "ks-ci-bot H 24\n",
      "kubevirt-commenter-bot H 24\n",
      "lgtm-com[bot] 4T 360\n",
      "lingohub[bot] 2H 12\n",
      "linux-foundation-easycla[bot] 30T 48\n",
      "livingdocs-automation H 24\n",
      "mender-test-bot H 24\n",
      "metal3-io-bot 30T 48\n",
      "metamaskbot 30T 48\n",
      "minikube-bot 2H 12\n",
      "minikube-pr-bot 3H 8\n",
      "minio-trusted H 24\n",
      "miss-islington H 24\n",
      "mister-roboto H 24\n",
      "mm-cloud-bot 30T 48\n",
      "moz-wptsync-bot H 24\n",
      "mumukibot 12T 120\n"
     ]
    },
    {
     "name": "stderr",
     "output_type": "stream",
     "text": [
      "/Library/Frameworks/Python.framework/Versions/3.11/lib/python3.11/site-packages/statsmodels/tsa/statespace/sarimax.py:866: UserWarning: Too few observations to estimate starting parameters for seasonal ARMA. All parameters except for variances will be set to zeros.\n",
      "  warn('Too few observations to estimate starting parameters%s.'\n",
      "/Library/Frameworks/Python.framework/Versions/3.11/lib/python3.11/site-packages/statsmodels/base/model.py:607: ConvergenceWarning: Maximum Likelihood optimization failed to converge. Check mle_retvals\n",
      "  warnings.warn(\"Maximum Likelihood optimization failed to \"\n"
     ]
    },
    {
     "name": "stdout",
     "output_type": "stream",
     "text": [
      "nacho-bot H 24\n",
      "neos-bot 3H 8\n",
      "netkan-bot H 24\n",
      "nextcloud-bot 20T 72\n"
     ]
    },
    {
     "name": "stderr",
     "output_type": "stream",
     "text": [
      "/Library/Frameworks/Python.framework/Versions/3.11/lib/python3.11/site-packages/statsmodels/tsa/statespace/sarimax.py:1009: UserWarning: Non-invertible starting seasonal moving average Using zeros as starting parameters.\n",
      "  warn('Non-invertible starting seasonal moving average'\n"
     ]
    },
    {
     "name": "stdout",
     "output_type": "stream",
     "text": [
      "ninjadotorg-bot H 24\n",
      "niveristand-diff-bot 30T 48\n",
      "nodebb-misty 4H 6\n",
      "nodejs-github-bot 20T 72\n",
      "nur-bot 30T 48\n",
      "octokit-fixture-user-a 30T 48\n",
      "octokitbot H 24\n",
      "oll-bot H 24\n",
      "openhab-bot 20T 72\n",
      "openshift-cherrypick-robot 4T 360\n",
      "openssl-machine H 24\n",
      "pantheon-ci-bot H 24\n",
      "pdfjsbot H 24\n",
      "pirate-bot H 24\n",
      "pivotal-cla 4H 6\n",
      "pytorchbot H 24\n",
      "qmk-bot H 24\n",
      "r-ryantm 4T 360\n",
      "release-drafter[bot] 3H 8\n",
      "renovate-approve-2[bot] 3T 480\n",
      "repo-ranger[bot] 30T 48\n",
      "restyled-io[bot] T 1440\n",
      "review-notebook-app[bot] 20T 72\n",
      "robot-clickhouse H 24\n",
      "rultor 20T 72\n"
     ]
    },
    {
     "name": "stderr",
     "output_type": "stream",
     "text": [
      "/Library/Frameworks/Python.framework/Versions/3.11/lib/python3.11/site-packages/statsmodels/tsa/statespace/sarimax.py:1009: UserWarning: Non-invertible starting seasonal moving average Using zeros as starting parameters.\n",
      "  warn('Non-invertible starting seasonal moving average'\n",
      "/Library/Frameworks/Python.framework/Versions/3.11/lib/python3.11/site-packages/statsmodels/base/model.py:607: ConvergenceWarning: Maximum Likelihood optimization failed to converge. Check mle_retvals\n",
      "  warnings.warn(\"Maximum Likelihood optimization failed to \"\n"
     ]
    },
    {
     "name": "stdout",
     "output_type": "stream",
     "text": [
      "rust-timer 20T 72\n",
      "rustbot 30T 48\n",
      "sagemaker-bot 20T 72\n",
      "salesforce-cla[bot] 4H 6\n",
      "scrutinizer-notifier H 24\n",
      "sentry-io[bot] H 24\n",
      "similar-code-searcher[bot] 2H 12\n",
      "skia-flutter-autoroll 20T 72\n",
      "softwarefactory-project-zuul[bot] 30T 48\n",
      "soloio-bot H 24\n",
      "sourcegraph-bot 3T 480\n",
      "spinnakerbot 2H 12\n",
      "spring-builds 4H 6\n",
      "sprucelabs-ci 8T 168\n"
     ]
    },
    {
     "name": "stderr",
     "output_type": "stream",
     "text": [
      "/Library/Frameworks/Python.framework/Versions/3.11/lib/python3.11/site-packages/statsmodels/tsa/statespace/sarimax.py:866: UserWarning: Too few observations to estimate starting parameters for seasonal ARMA. All parameters except for variances will be set to zeros.\n",
      "  warn('Too few observations to estimate starting parameters%s.'\n"
     ]
    },
    {
     "name": "stdout",
     "output_type": "stream",
     "text": [
      "sre-bot H 24\n",
      "stakater-user 30T 48\n",
      "status-im-auto 30T 48\n",
      "submariner-bot 20T 72\n",
      "swift-ci 7T 192\n",
      "taichi-gardener H 24\n",
      "thundernest-bot 4H 6\n",
      "translatewiki H 24\n",
      "tykbot[bot] 3H 8\n",
      "usercont-release-bot 30T 48\n",
      "va-bot 3H 8\n",
      "vc-ci 20T 72\n"
     ]
    },
    {
     "name": "stderr",
     "output_type": "stream",
     "text": [
      "/Library/Frameworks/Python.framework/Versions/3.11/lib/python3.11/site-packages/statsmodels/base/model.py:607: ConvergenceWarning: Maximum Likelihood optimization failed to converge. Check mle_retvals\n",
      "  warnings.warn(\"Maximum Likelihood optimization failed to \"\n"
     ]
    },
    {
     "name": "stdout",
     "output_type": "stream",
     "text": [
      "violinist-bot 30T 48\n",
      "vmwclabot H 24\n",
      "vscode-issue-tracker-bot 30T 48\n",
      "vtex-io-ci-cd[bot] H 24\n",
      "vtex-io-docs-bot[bot] 2H 12\n",
      "welcome[bot] 20T 72\n",
      "wet-boew-bot 4H 6\n",
      "wso2-jenkins-bot 30T 48\n",
      "335498 30T 48\n",
      "335745 3H 8\n",
      "353444 2H 12\n",
      "355383 2H 12\n",
      "359854 H 24\n",
      "364686 30T 48\n",
      "367939 H 24\n",
      "368375 20T 72\n"
     ]
    },
    {
     "name": "stderr",
     "output_type": "stream",
     "text": [
      "/Library/Frameworks/Python.framework/Versions/3.11/lib/python3.11/site-packages/statsmodels/tsa/statespace/sarimax.py:978: UserWarning: Non-invertible starting MA parameters found. Using zeros as starting parameters.\n",
      "  warn('Non-invertible starting MA parameters found.'\n",
      "/Library/Frameworks/Python.framework/Versions/3.11/lib/python3.11/site-packages/statsmodels/tsa/statespace/sarimax.py:1009: UserWarning: Non-invertible starting seasonal moving average Using zeros as starting parameters.\n",
      "  warn('Non-invertible starting seasonal moving average'\n"
     ]
    },
    {
     "name": "stdout",
     "output_type": "stream",
     "text": [
      "373769 3H 8\n",
      "374774 H 24\n",
      "376887 H 24\n",
      "377538 30T 48\n",
      "377543 3H 8\n",
      "387658 H 24\n",
      "387854 H 24\n",
      "437693 30T 48\n",
      "437766 H 24\n",
      "438655 4H 6\n",
      "446498 30T 48\n",
      "449544 3H 8\n",
      "449583 H 24\n",
      "454496 H 24\n",
      "454638 4H 6\n"
     ]
    },
    {
     "name": "stderr",
     "output_type": "stream",
     "text": [
      "/Library/Frameworks/Python.framework/Versions/3.11/lib/python3.11/site-packages/statsmodels/tsa/statespace/sarimax.py:978: UserWarning: Non-invertible starting MA parameters found. Using zeros as starting parameters.\n",
      "  warn('Non-invertible starting MA parameters found.'\n"
     ]
    },
    {
     "name": "stdout",
     "output_type": "stream",
     "text": [
      "455745 30T 48\n",
      "456995 4H 6\n",
      "459877 H 24\n",
      "465566 30T 48\n",
      "473965 30T 48\n",
      "475849 3H 8\n",
      "483648 4H 6\n",
      "487355 3H 8\n",
      "489848 3H 8\n",
      "535599 3H 8\n",
      "537443 H 24\n",
      "543595 H 24\n",
      "549789 H 24\n",
      "553976 H 24\n",
      "558473 H 24\n",
      "567384 H 24\n",
      "567396 3H 8\n",
      "567743 4H 6\n",
      "576539 30T 48\n",
      "578794 4H 6\n",
      "579369 2H 12\n",
      "587344 2H 12\n",
      "597849 H 24\n",
      "645363 H 24\n",
      "646677 H 24\n",
      "646795 2H 12\n",
      "648358 H 24\n",
      "656549 2H 12\n",
      "658766 2H 12\n",
      "658938 H 24\n",
      "664498 2H 12\n",
      "664693 H 24\n",
      "668867 H 24\n",
      "669693 H 24\n"
     ]
    },
    {
     "name": "stderr",
     "output_type": "stream",
     "text": [
      "/Library/Frameworks/Python.framework/Versions/3.11/lib/python3.11/site-packages/statsmodels/base/model.py:607: ConvergenceWarning: Maximum Likelihood optimization failed to converge. Check mle_retvals\n",
      "  warnings.warn(\"Maximum Likelihood optimization failed to \"\n"
     ]
    },
    {
     "name": "stdout",
     "output_type": "stream",
     "text": [
      "673338 30T 48\n",
      "674548 H 24\n",
      "689788 4H 6\n",
      "733774 30T 48\n",
      "735987 H 24\n",
      "743485 H 24\n"
     ]
    },
    {
     "name": "stderr",
     "output_type": "stream",
     "text": [
      "/Library/Frameworks/Python.framework/Versions/3.11/lib/python3.11/site-packages/statsmodels/tsa/statespace/sarimax.py:978: UserWarning: Non-invertible starting MA parameters found. Using zeros as starting parameters.\n",
      "  warn('Non-invertible starting MA parameters found.'\n"
     ]
    },
    {
     "name": "stdout",
     "output_type": "stream",
     "text": [
      "744346 4H 6\n"
     ]
    },
    {
     "name": "stderr",
     "output_type": "stream",
     "text": [
      "/Library/Frameworks/Python.framework/Versions/3.11/lib/python3.11/site-packages/statsmodels/tsa/statespace/sarimax.py:978: UserWarning: Non-invertible starting MA parameters found. Using zeros as starting parameters.\n",
      "  warn('Non-invertible starting MA parameters found.'\n"
     ]
    },
    {
     "name": "stdout",
     "output_type": "stream",
     "text": [
      "748599 2H 12\n",
      "754548 30T 48\n",
      "754564 H 24\n",
      "755587 H 24\n",
      "757389 30T 48\n",
      "758333 H 24\n",
      "763394 H 24\n",
      "767954 H 24\n",
      "769343 H 24\n",
      "769399 H 24\n",
      "773356 H 24\n",
      "783656 4H 6\n",
      "784775 H 24\n",
      "787773 H 24\n",
      "795565 H 24\n",
      "795985 H 24\n",
      "797989 30T 48\n",
      "798388 2H 12\n"
     ]
    },
    {
     "name": "stderr",
     "output_type": "stream",
     "text": [
      "/Library/Frameworks/Python.framework/Versions/3.11/lib/python3.11/site-packages/statsmodels/base/model.py:607: ConvergenceWarning: Maximum Likelihood optimization failed to converge. Check mle_retvals\n",
      "  warnings.warn(\"Maximum Likelihood optimization failed to \"\n"
     ]
    },
    {
     "name": "stdout",
     "output_type": "stream",
     "text": [
      "843533 H 24\n",
      "845398 3H 8\n",
      "847775 H 24\n",
      "849548 H 24\n",
      "859454 3H 8\n",
      "859754 2H 12\n",
      "864856 H 24\n",
      "864943 H 24\n",
      "865858 2H 12\n",
      "873354 H 24\n",
      "885533 H 24\n",
      "885899 H 24\n",
      "893864 3H 8\n",
      "896363 2H 12\n",
      "897436 H 24\n",
      "897688 30T 48\n",
      "933837 H 24\n",
      "946773 H 24\n",
      "947579 30T 48\n",
      "949698 2H 12\n",
      "954443 30T 48\n",
      "955787 8T 168\n"
     ]
    },
    {
     "name": "stderr",
     "output_type": "stream",
     "text": [
      "/Library/Frameworks/Python.framework/Versions/3.11/lib/python3.11/site-packages/statsmodels/tsa/statespace/sarimax.py:978: UserWarning: Non-invertible starting MA parameters found. Using zeros as starting parameters.\n",
      "  warn('Non-invertible starting MA parameters found.'\n",
      "/Library/Frameworks/Python.framework/Versions/3.11/lib/python3.11/site-packages/statsmodels/tsa/statespace/sarimax.py:866: UserWarning: Too few observations to estimate starting parameters for seasonal ARMA. All parameters except for variances will be set to zeros.\n",
      "  warn('Too few observations to estimate starting parameters%s.'\n",
      "/Library/Frameworks/Python.framework/Versions/3.11/lib/python3.11/site-packages/statsmodels/base/model.py:607: ConvergenceWarning: Maximum Likelihood optimization failed to converge. Check mle_retvals\n",
      "  warnings.warn(\"Maximum Likelihood optimization failed to \"\n"
     ]
    },
    {
     "name": "stdout",
     "output_type": "stream",
     "text": [
      "957953 H 24\n",
      "966834 3H 8\n",
      "976375 H 24\n",
      "977484 H 24\n",
      "978678 30T 48\n",
      "979384 2H 12\n",
      "983548 H 24\n",
      "983874 H 24\n",
      "985588 H 24\n"
     ]
    },
    {
     "name": "stderr",
     "output_type": "stream",
     "text": [
      "/Library/Frameworks/Python.framework/Versions/3.11/lib/python3.11/site-packages/statsmodels/base/model.py:607: ConvergenceWarning: Maximum Likelihood optimization failed to converge. Check mle_retvals\n",
      "  warnings.warn(\"Maximum Likelihood optimization failed to \"\n"
     ]
    },
    {
     "name": "stdout",
     "output_type": "stream",
     "text": [
      "987894 H 24\n",
      "988439 H 24\n"
     ]
    }
   ],
   "source": [
    "sarima_results = data.groupby(['category', 'contributor']).apply(sarima_model).reset_index(drop=True)"
   ]
  },
  {
   "cell_type": "code",
   "execution_count": 28,
   "metadata": {},
   "outputs": [],
   "source": [
    "sarima_results.to_csv('../models-evaluation-v4/sarima_model_metrics.csv', index=False)"
   ]
  },
  {
   "cell_type": "markdown",
   "metadata": {},
   "source": [
    "# 2. Unobserved components model"
   ]
  },
  {
   "cell_type": "code",
   "execution_count": 20,
   "metadata": {},
   "outputs": [],
   "source": [
    "def uc_model(contributor):\n",
    "\n",
    "    contributor_name = contributor['contributor'].iloc[0]\n",
    "    contributor_category = contributor['category'].iloc[0]\n",
    "    train, test = split_activities(contributor)\n",
    "    freq = train.index.freq.freqstr\n",
    "    seasonal = frequency_to_seasonality(freq)\n",
    "\n",
    "    print(contributor_name, freq, seasonal)\n",
    "\n",
    "    if (len(train)//seasonal) < 2:\n",
    "        seasonal = None\n",
    "\n",
    "    # choosing appropriate model parameters\n",
    "    model = UnobservedComponents(\n",
    "        train['n_activities'], \n",
    "        level = True, \n",
    "        seasonal = seasonal\n",
    "        ).fit(disp=False, method='lbfgs')\n",
    "\n",
    "    # Forecast the test set using confidence interval with 95%\n",
    "    predictions = model.get_prediction(start=len(train), end=len(train)+len(test)-1).summary_frame(alpha=0.05)\n",
    "\n",
    "    metrics = pd.Series({\n",
    "        'contributor': contributor_name,\n",
    "        'category': contributor_category,\n",
    "        'r2': r2_score(test['n_activities'], predictions['mean']),\n",
    "        'mae': mean_absolute_error(test['n_activities'], predictions['mean']),\n",
    "        'pga': pga_score(test['n_activities'], predictions['mean']),\n",
    "        'ctd_100': ctd_score(test['n_activities'], predictions['mean'], 100)[0],\n",
    "        'ctd_200': ctd_score(test['n_activities'], predictions['mean'], 200)[0],\n",
    "        'ctd_300': ctd_score(test['n_activities'], predictions['mean'], 300)[0],\n",
    "        'flag_300': ctd_score(test['n_activities'], predictions['mean'], 300)[1],\n",
    "        'n_activities': train['n_activities'].sum(),\n",
    "        'frequency': freq,\n",
    "        'seasonality':seasonal,\n",
    "        'data_points':len(train),\n",
    "    })\n",
    "\n",
    "    return metrics"
   ]
  },
  {
   "cell_type": "code",
   "execution_count": 21,
   "metadata": {},
   "outputs": [
    {
     "name": "stdout",
     "output_type": "stream",
     "text": [
      "0crat H 24\n",
      "AppVeyorBot H 24\n",
      "Code-Inside-Bot H 24\n",
      "CrowdinBot H 24\n",
      "DrahtBot H 24\n",
      "PJBot 4H 6\n",
      "addonsbot 4H 6\n",
      "adobe-bot 3T 480\n",
      "agones-bot H 24\n"
     ]
    },
    {
     "name": "stderr",
     "output_type": "stream",
     "text": [
      "/Library/Frameworks/Python.framework/Versions/3.11/lib/python3.11/site-packages/statsmodels/tsa/statespace/structural.py:508: SpecificationWarning: Specified model does not contain a stochastic element; irregular component added.\n",
      "  warn(\"Specified model does not contain a stochastic element;\"\n"
     ]
    },
    {
     "name": "stdout",
     "output_type": "stream",
     "text": [
      "alluxio-bot 2H 12\n",
      "analysis-bot 3H 8\n",
      "angular-automatic-lock-bot[bot] 30T 48\n",
      "ansibot 2H 12\n",
      "apmmachine 20T 72\n",
      "aporeto-bot H 24\n",
      "aws-cdk-automation 3T 480\n"
     ]
    },
    {
     "name": "stderr",
     "output_type": "stream",
     "text": [
      "/Library/Frameworks/Python.framework/Versions/3.11/lib/python3.11/site-packages/statsmodels/tsa/statespace/structural.py:508: SpecificationWarning: Specified model does not contain a stochastic element; irregular component added.\n",
      "  warn(\"Specified model does not contain a stochastic element;\"\n"
     ]
    },
    {
     "name": "stdout",
     "output_type": "stream",
     "text": [
      "backportbot-nextcloud[bot] 30T 48\n",
      "ballerina-bot 10T 144\n",
      "bedevere-bot H 24\n",
      "bits-bot 3H 8\n",
      "blathers-crl[bot] 7T 192\n",
      "bluespice-github-bot H 24\n"
     ]
    },
    {
     "name": "stderr",
     "output_type": "stream",
     "text": [
      "/Library/Frameworks/Python.framework/Versions/3.11/lib/python3.11/site-packages/statsmodels/tsa/statespace/structural.py:508: SpecificationWarning: Specified model does not contain a stochastic element; irregular component added.\n",
      "  warn(\"Specified model does not contain a stochastic element;\"\n"
     ]
    },
    {
     "name": "stdout",
     "output_type": "stream",
     "text": [
      "boring-cyborg[bot] H 24\n",
      "bors-servo 30T 48\n",
      "bot-gradle 20T 72\n",
      "carsonbot 4H 6\n",
      "cf-gitbot 30T 48\n",
      "cheminfo-bot H 24\n",
      "cla-bot[bot] 30T 48\n",
      "cmsdmwmbot 4H 6\n",
      "codeclimate[bot] 2T 720\n",
      "codesandbox[bot] 8T 168\n"
     ]
    },
    {
     "name": "stderr",
     "output_type": "stream",
     "text": [
      "/Library/Frameworks/Python.framework/Versions/3.11/lib/python3.11/site-packages/statsmodels/tsa/statespace/structural.py:508: SpecificationWarning: Specified model does not contain a stochastic element; irregular component added.\n",
      "  warn(\"Specified model does not contain a stochastic element;\"\n"
     ]
    },
    {
     "name": "stdout",
     "output_type": "stream",
     "text": [
      "confs-tech-bot H 24\n",
      "cozy-bot H 24\n",
      "cypress-bot[bot] H 24\n",
      "delete-merged-branch[bot] 4T 360\n",
      "devOpsHazelcast 30T 48\n"
     ]
    },
    {
     "name": "stderr",
     "output_type": "stream",
     "text": [
      "/Library/Frameworks/Python.framework/Versions/3.11/lib/python3.11/site-packages/statsmodels/tsa/statespace/structural.py:508: SpecificationWarning: Specified model does not contain a stochastic element; irregular component added.\n",
      "  warn(\"Specified model does not contain a stochastic element;\"\n"
     ]
    },
    {
     "name": "stdout",
     "output_type": "stream",
     "text": [
      "dlang-bot 2H 12\n",
      "docker-library-bot 30T 48\n",
      "dontcallmedom-bot H 24\n",
      "dotnet-bot 15T 96\n",
      "dotnet-issue-labeler[bot] H 24\n",
      "dotnet-maestro-bot H 24\n",
      "edx-requirements-bot 15T 96\n",
      "edx-transifex-bot H 24\n",
      "elife-bot 20T 72\n",
      "engine-flutter-autoroll 20T 72\n",
      "fire-bot 4H 6\n",
      "flinkbot 20T 72\n",
      "fluttergithubbot 30T 48\n",
      "forking-renovate[bot] 30T 48\n",
      "fossabot H 24\n",
      "garybot2 4H 6\n",
      "gatsby-cloud[bot] 20T 72\n",
      "getsentry-bot H 24\n",
      "gitguardian[bot] 10T 144\n",
      "gitpod-io[bot] 30T 48\n",
      "google-ml-butler[bot] H 24\n",
      "google-oss-bot 20T 72\n",
      "graalvmbot 20T 72\n",
      "graviteeio 30T 48\n",
      "guardrails[bot] 30T 48\n",
      "hashicorp-cla H 24\n",
      "hasura-bot H 24\n",
      "hft-team-city H 24\n",
      "ibmdotcom-bot H 24\n",
      "ionitron-bot[bot] 3H 8\n",
      "istio-policy-bot H 24\n",
      "jbosstm-bot 2H 12\n",
      "jenkins-x-bot-test 6H 4\n",
      "jetstack-bot 30T 48\n",
      "jitsi-jenkins 30T 48\n",
      "johnpbloch-bot 2H 12\n",
      "jujubot 4H 6\n",
      "knative-prow-robot 3H 8\n",
      "ks-ci-bot H 24\n",
      "kubevirt-commenter-bot H 24\n",
      "lgtm-com[bot] 4T 360\n",
      "lingohub[bot] 2H 12\n",
      "linux-foundation-easycla[bot] 30T 48\n"
     ]
    },
    {
     "name": "stderr",
     "output_type": "stream",
     "text": [
      "/Library/Frameworks/Python.framework/Versions/3.11/lib/python3.11/site-packages/statsmodels/tsa/statespace/structural.py:508: SpecificationWarning: Specified model does not contain a stochastic element; irregular component added.\n",
      "  warn(\"Specified model does not contain a stochastic element;\"\n"
     ]
    },
    {
     "name": "stdout",
     "output_type": "stream",
     "text": [
      "livingdocs-automation H 24\n",
      "mender-test-bot H 24\n",
      "metal3-io-bot 30T 48\n",
      "metamaskbot 30T 48\n",
      "minikube-bot 2H 12\n",
      "minikube-pr-bot 3H 8\n",
      "minio-trusted H 24\n",
      "miss-islington H 24\n",
      "mister-roboto H 24\n",
      "mm-cloud-bot 30T 48\n",
      "moz-wptsync-bot H 24\n",
      "mumukibot 12T 120\n",
      "nacho-bot H 24\n",
      "neos-bot 3H 8\n",
      "netkan-bot H 24\n",
      "nextcloud-bot 20T 72\n",
      "ninjadotorg-bot H 24\n",
      "niveristand-diff-bot 30T 48\n",
      "nodebb-misty 4H 6\n",
      "nodejs-github-bot 20T 72\n",
      "nur-bot 30T 48\n",
      "octokit-fixture-user-a 30T 48\n",
      "octokitbot H 24\n",
      "oll-bot H 24\n",
      "openhab-bot 20T 72\n",
      "openshift-cherrypick-robot 4T 360\n",
      "openssl-machine H 24\n"
     ]
    },
    {
     "name": "stderr",
     "output_type": "stream",
     "text": [
      "/Library/Frameworks/Python.framework/Versions/3.11/lib/python3.11/site-packages/statsmodels/tsa/statespace/structural.py:508: SpecificationWarning: Specified model does not contain a stochastic element; irregular component added.\n",
      "  warn(\"Specified model does not contain a stochastic element;\"\n"
     ]
    },
    {
     "name": "stdout",
     "output_type": "stream",
     "text": [
      "pantheon-ci-bot H 24\n",
      "pdfjsbot H 24\n",
      "pirate-bot H 24\n",
      "pivotal-cla 4H 6\n",
      "pytorchbot H 24\n",
      "qmk-bot H 24\n",
      "r-ryantm 4T 360\n",
      "release-drafter[bot] 3H 8\n",
      "renovate-approve-2[bot] 3T 480\n",
      "repo-ranger[bot] 30T 48\n"
     ]
    },
    {
     "name": "stderr",
     "output_type": "stream",
     "text": [
      "/Library/Frameworks/Python.framework/Versions/3.11/lib/python3.11/site-packages/statsmodels/tsa/statespace/structural.py:508: SpecificationWarning: Specified model does not contain a stochastic element; irregular component added.\n",
      "  warn(\"Specified model does not contain a stochastic element;\"\n",
      "/Library/Frameworks/Python.framework/Versions/3.11/lib/python3.11/site-packages/statsmodels/tsa/statespace/structural.py:508: SpecificationWarning: Specified model does not contain a stochastic element; irregular component added.\n",
      "  warn(\"Specified model does not contain a stochastic element;\"\n"
     ]
    },
    {
     "name": "stdout",
     "output_type": "stream",
     "text": [
      "restyled-io[bot] T 1440\n",
      "review-notebook-app[bot] 20T 72\n"
     ]
    },
    {
     "name": "stderr",
     "output_type": "stream",
     "text": [
      "/Library/Frameworks/Python.framework/Versions/3.11/lib/python3.11/site-packages/statsmodels/tsa/statespace/structural.py:508: SpecificationWarning: Specified model does not contain a stochastic element; irregular component added.\n",
      "  warn(\"Specified model does not contain a stochastic element;\"\n"
     ]
    },
    {
     "name": "stdout",
     "output_type": "stream",
     "text": [
      "robot-clickhouse H 24\n",
      "rultor 20T 72\n",
      "rust-timer 20T 72\n",
      "rustbot 30T 48\n",
      "sagemaker-bot 20T 72\n",
      "salesforce-cla[bot] 4H 6\n",
      "scrutinizer-notifier H 24\n",
      "sentry-io[bot] H 24\n",
      "similar-code-searcher[bot] 2H 12\n",
      "skia-flutter-autoroll 20T 72\n",
      "softwarefactory-project-zuul[bot] 30T 48\n",
      "soloio-bot H 24\n",
      "sourcegraph-bot 3T 480\n"
     ]
    },
    {
     "name": "stderr",
     "output_type": "stream",
     "text": [
      "/Library/Frameworks/Python.framework/Versions/3.11/lib/python3.11/site-packages/statsmodels/tsa/statespace/structural.py:508: SpecificationWarning: Specified model does not contain a stochastic element; irregular component added.\n",
      "  warn(\"Specified model does not contain a stochastic element;\"\n"
     ]
    },
    {
     "name": "stdout",
     "output_type": "stream",
     "text": [
      "spinnakerbot 2H 12\n",
      "spring-builds 4H 6\n",
      "sprucelabs-ci 8T 168\n",
      "sre-bot H 24\n",
      "stakater-user 30T 48\n",
      "status-im-auto 30T 48\n",
      "submariner-bot 20T 72\n",
      "swift-ci 7T 192\n",
      "taichi-gardener H 24\n"
     ]
    },
    {
     "name": "stderr",
     "output_type": "stream",
     "text": [
      "/Library/Frameworks/Python.framework/Versions/3.11/lib/python3.11/site-packages/statsmodels/tsa/statespace/structural.py:508: SpecificationWarning: Specified model does not contain a stochastic element; irregular component added.\n",
      "  warn(\"Specified model does not contain a stochastic element;\"\n"
     ]
    },
    {
     "name": "stdout",
     "output_type": "stream",
     "text": [
      "thundernest-bot 4H 6\n",
      "translatewiki H 24\n",
      "tykbot[bot] 3H 8\n",
      "usercont-release-bot 30T 48\n",
      "va-bot 3H 8\n",
      "vc-ci 20T 72\n",
      "violinist-bot 30T 48\n",
      "vmwclabot H 24\n",
      "vscode-issue-tracker-bot 30T 48\n"
     ]
    },
    {
     "name": "stderr",
     "output_type": "stream",
     "text": [
      "/Library/Frameworks/Python.framework/Versions/3.11/lib/python3.11/site-packages/statsmodels/base/model.py:607: ConvergenceWarning: Maximum Likelihood optimization failed to converge. Check mle_retvals\n",
      "  warnings.warn(\"Maximum Likelihood optimization failed to \"\n"
     ]
    },
    {
     "name": "stdout",
     "output_type": "stream",
     "text": [
      "vtex-io-ci-cd[bot] H 24\n",
      "vtex-io-docs-bot[bot] 2H 12\n",
      "welcome[bot] 20T 72\n",
      "wet-boew-bot 4H 6\n",
      "wso2-jenkins-bot 30T 48\n",
      "335498 30T 48\n",
      "335745 3H 8\n",
      "353444 2H 12\n",
      "355383 2H 12\n",
      "359854 H 24\n",
      "364686 30T 48\n",
      "367939 H 24\n",
      "368375 20T 72\n",
      "373769 3H 8\n",
      "374774 H 24\n",
      "376887 H 24\n",
      "377538 30T 48\n",
      "377543 3H 8\n",
      "387658 H 24\n",
      "387854 H 24\n",
      "437693 30T 48\n",
      "437766 H 24\n",
      "438655 4H 6\n",
      "446498 30T 48\n",
      "449544 3H 8\n",
      "449583 H 24\n",
      "454496 H 24\n",
      "454638 4H 6\n",
      "455745 30T 48\n",
      "456995 4H 6\n",
      "459877 H 24\n",
      "465566 30T 48\n",
      "473965 30T 48\n",
      "475849 3H 8\n",
      "483648 4H 6\n",
      "487355 3H 8\n",
      "489848 3H 8\n",
      "535599 3H 8\n",
      "537443 H 24\n",
      "543595 H 24\n",
      "549789 H 24\n",
      "553976 H 24\n",
      "558473 H 24\n",
      "567384 H 24\n",
      "567396 3H 8\n",
      "567743 4H 6\n",
      "576539 30T 48\n",
      "578794 4H 6\n",
      "579369 2H 12\n",
      "587344 2H 12\n",
      "597849 H 24\n",
      "645363 H 24\n",
      "646677 H 24\n",
      "646795 2H 12\n",
      "648358 H 24\n",
      "656549 2H 12\n",
      "658766 2H 12\n",
      "658938 H 24\n",
      "664498 2H 12\n",
      "664693 H 24\n",
      "668867 H 24\n",
      "669693 H 24\n",
      "673338 30T 48\n",
      "674548 H 24\n",
      "689788 4H 6\n",
      "733774 30T 48\n",
      "735987 H 24\n",
      "743485 H 24\n",
      "744346 4H 6\n",
      "748599 2H 12\n",
      "754548 30T 48\n",
      "754564 H 24\n",
      "755587 H 24\n",
      "757389 30T 48\n",
      "758333 H 24\n",
      "763394 H 24\n",
      "767954 H 24\n",
      "769343 H 24\n",
      "769399 H 24\n",
      "773356 H 24\n",
      "783656 4H 6\n",
      "784775 H 24\n",
      "787773 H 24\n",
      "795565 H 24\n",
      "795985 H 24\n",
      "797989 30T 48\n",
      "798388 2H 12\n",
      "843533 H 24\n",
      "845398 3H 8\n",
      "847775 H 24\n",
      "849548 H 24\n",
      "859454 3H 8\n",
      "859754 2H 12\n",
      "864856 H 24\n",
      "864943 H 24\n",
      "865858 2H 12\n",
      "873354 H 24\n",
      "885533 H 24\n",
      "885899 H 24\n",
      "893864 3H 8\n",
      "896363 2H 12\n",
      "897436 H 24\n",
      "897688 30T 48\n",
      "933837 H 24\n",
      "946773 H 24\n",
      "947579 30T 48\n",
      "949698 2H 12\n",
      "954443 30T 48\n",
      "955787 8T 168\n",
      "957953 H 24\n",
      "966834 3H 8\n",
      "976375 H 24\n",
      "977484 H 24\n",
      "978678 30T 48\n",
      "979384 2H 12\n",
      "983548 H 24\n",
      "983874 H 24\n",
      "985588 H 24\n",
      "987894 H 24\n",
      "988439 H 24\n"
     ]
    }
   ],
   "source": [
    "uc_results = data.groupby(['category', 'contributor']).apply(uc_model).reset_index(drop=True)"
   ]
  },
  {
   "cell_type": "code",
   "execution_count": 22,
   "metadata": {},
   "outputs": [],
   "source": [
    "uc_results.to_csv('../models-evaluation-v4/uc_model_metrics.csv', index=False)"
   ]
  },
  {
   "cell_type": "markdown",
   "metadata": {},
   "source": [
    "# 3. Error Trend and Seasonality model"
   ]
  },
  {
   "cell_type": "code",
   "execution_count": 24,
   "metadata": {},
   "outputs": [],
   "source": [
    "def ets_model(contributor):\n",
    "\n",
    "    contributor_name = contributor['contributor'].iloc[0]\n",
    "    contributor_category = contributor['category'].iloc[0]\n",
    "    train, test = split_activities(contributor)\n",
    "    freq = train.index.freq.freqstr\n",
    "    seasonal_periods = frequency_to_seasonality(freq)\n",
    "\n",
    "    print(contributor_name, freq, seasonal_periods)\n",
    "\n",
    "    # choosing best parameters (possible seasonality)\n",
    "    if seasonal_periods and (len(train)//seasonal_periods) >= 2:\n",
    "        seasonal = 'add'\n",
    "    else:\n",
    "        seasonal_periods = None\n",
    "        seasonal = None\n",
    "\n",
    "    model = ETSModel(\n",
    "        train['n_activities'], \n",
    "        error = 'add', \n",
    "        trend = 'add', \n",
    "        seasonal = seasonal, \n",
    "        seasonal_periods = seasonal_periods\n",
    "    ).fit(disp=False)\n",
    "\n",
    "    predictions = model.get_prediction(start=len(train), end=len(train)+len(test)-1).summary_frame(alpha=0.05)\n",
    "\n",
    "    metrics = pd.Series({\n",
    "        'contributor': contributor_name,\n",
    "        'category': contributor_category,\n",
    "        'r2': r2_score(test['n_activities'], predictions['mean']),\n",
    "        'mae': mean_absolute_error(test['n_activities'], predictions['mean']),\n",
    "        'pga': pga_score(test['n_activities'], predictions['mean']),\n",
    "        'ctd_100': ctd_score(test['n_activities'], predictions['mean'], 100)[0],\n",
    "        'ctd_200': ctd_score(test['n_activities'], predictions['mean'], 200)[0],\n",
    "        'ctd_300': ctd_score(test['n_activities'], predictions['mean'], 300)[0],\n",
    "        'flag_300': ctd_score(test['n_activities'], predictions['mean'], 300)[1],\n",
    "        'n_activities': train['n_activities'].sum(),\n",
    "        'frequency': freq,\n",
    "        'seasonality':seasonal_periods,\n",
    "        'data_points':len(train),\n",
    "    })\n",
    "\n",
    "    return metrics"
   ]
  },
  {
   "cell_type": "code",
   "execution_count": 25,
   "metadata": {},
   "outputs": [
    {
     "name": "stdout",
     "output_type": "stream",
     "text": [
      "0crat H 24\n",
      "AppVeyorBot H 24\n",
      "Code-Inside-Bot H 24\n",
      "CrowdinBot H 24\n",
      "DrahtBot H 24\n",
      "PJBot 4H 6\n",
      "addonsbot 4H 6\n",
      "adobe-bot 3T 480\n",
      "agones-bot H 24\n",
      "alluxio-bot 2H 12\n",
      "analysis-bot 3H 8\n",
      "angular-automatic-lock-bot[bot] 30T 48\n",
      "ansibot 2H 12\n",
      "apmmachine 20T 72\n",
      "aporeto-bot H 24\n",
      "aws-cdk-automation 3T 480\n",
      "backportbot-nextcloud[bot] 30T 48\n",
      "ballerina-bot 10T 144\n"
     ]
    },
    {
     "name": "stderr",
     "output_type": "stream",
     "text": [
      "/Library/Frameworks/Python.framework/Versions/3.11/lib/python3.11/site-packages/statsmodels/base/model.py:607: ConvergenceWarning: Maximum Likelihood optimization failed to converge. Check mle_retvals\n",
      "  warnings.warn(\"Maximum Likelihood optimization failed to \"\n"
     ]
    },
    {
     "name": "stdout",
     "output_type": "stream",
     "text": [
      "bedevere-bot H 24\n",
      "bits-bot 3H 8\n",
      "blathers-crl[bot] 7T 192\n",
      "bluespice-github-bot H 24\n",
      "boring-cyborg[bot] H 24\n",
      "bors-servo 30T 48\n",
      "bot-gradle 20T 72\n"
     ]
    },
    {
     "name": "stderr",
     "output_type": "stream",
     "text": [
      "/Library/Frameworks/Python.framework/Versions/3.11/lib/python3.11/site-packages/statsmodels/base/model.py:607: ConvergenceWarning: Maximum Likelihood optimization failed to converge. Check mle_retvals\n",
      "  warnings.warn(\"Maximum Likelihood optimization failed to \"\n"
     ]
    },
    {
     "name": "stdout",
     "output_type": "stream",
     "text": [
      "carsonbot 4H 6\n",
      "cf-gitbot 30T 48\n",
      "cheminfo-bot H 24\n",
      "cla-bot[bot] 30T 48\n",
      "cmsdmwmbot 4H 6\n",
      "codeclimate[bot] 2T 720\n",
      "codesandbox[bot] 8T 168\n"
     ]
    },
    {
     "name": "stderr",
     "output_type": "stream",
     "text": [
      "/Library/Frameworks/Python.framework/Versions/3.11/lib/python3.11/site-packages/statsmodels/base/model.py:607: ConvergenceWarning: Maximum Likelihood optimization failed to converge. Check mle_retvals\n",
      "  warnings.warn(\"Maximum Likelihood optimization failed to \"\n"
     ]
    },
    {
     "name": "stdout",
     "output_type": "stream",
     "text": [
      "confs-tech-bot H 24\n",
      "cozy-bot H 24\n",
      "cypress-bot[bot] H 24\n",
      "delete-merged-branch[bot] 4T 360\n",
      "devOpsHazelcast 30T 48\n",
      "dlang-bot 2H 12\n",
      "docker-library-bot 30T 48\n",
      "dontcallmedom-bot H 24\n",
      "dotnet-bot 15T 96\n",
      "dotnet-issue-labeler[bot] H 24\n",
      "dotnet-maestro-bot H 24\n",
      "edx-requirements-bot 15T 96\n"
     ]
    },
    {
     "name": "stderr",
     "output_type": "stream",
     "text": [
      "/Library/Frameworks/Python.framework/Versions/3.11/lib/python3.11/site-packages/statsmodels/base/model.py:607: ConvergenceWarning: Maximum Likelihood optimization failed to converge. Check mle_retvals\n",
      "  warnings.warn(\"Maximum Likelihood optimization failed to \"\n"
     ]
    },
    {
     "name": "stdout",
     "output_type": "stream",
     "text": [
      "edx-transifex-bot H 24\n",
      "elife-bot 20T 72\n",
      "engine-flutter-autoroll 20T 72\n"
     ]
    },
    {
     "name": "stderr",
     "output_type": "stream",
     "text": [
      "/Library/Frameworks/Python.framework/Versions/3.11/lib/python3.11/site-packages/statsmodels/base/model.py:607: ConvergenceWarning: Maximum Likelihood optimization failed to converge. Check mle_retvals\n",
      "  warnings.warn(\"Maximum Likelihood optimization failed to \"\n"
     ]
    },
    {
     "name": "stdout",
     "output_type": "stream",
     "text": [
      "fire-bot 4H 6\n",
      "flinkbot 20T 72\n"
     ]
    },
    {
     "name": "stderr",
     "output_type": "stream",
     "text": [
      "/Library/Frameworks/Python.framework/Versions/3.11/lib/python3.11/site-packages/statsmodels/base/model.py:607: ConvergenceWarning: Maximum Likelihood optimization failed to converge. Check mle_retvals\n",
      "  warnings.warn(\"Maximum Likelihood optimization failed to \"\n"
     ]
    },
    {
     "name": "stdout",
     "output_type": "stream",
     "text": [
      "fluttergithubbot 30T 48\n",
      "forking-renovate[bot] 30T 48\n",
      "fossabot H 24\n",
      "garybot2 4H 6\n",
      "gatsby-cloud[bot] 20T 72\n",
      "getsentry-bot H 24\n",
      "gitguardian[bot] 10T 144\n"
     ]
    },
    {
     "name": "stderr",
     "output_type": "stream",
     "text": [
      "/Library/Frameworks/Python.framework/Versions/3.11/lib/python3.11/site-packages/statsmodels/base/model.py:607: ConvergenceWarning: Maximum Likelihood optimization failed to converge. Check mle_retvals\n",
      "  warnings.warn(\"Maximum Likelihood optimization failed to \"\n"
     ]
    },
    {
     "name": "stdout",
     "output_type": "stream",
     "text": [
      "gitpod-io[bot] 30T 48\n",
      "google-ml-butler[bot] H 24\n",
      "google-oss-bot 20T 72\n",
      "graalvmbot 20T 72\n",
      "graviteeio 30T 48\n",
      "guardrails[bot] 30T 48\n",
      "hashicorp-cla H 24\n",
      "hasura-bot H 24\n",
      "hft-team-city H 24\n",
      "ibmdotcom-bot H 24\n",
      "ionitron-bot[bot] 3H 8\n",
      "istio-policy-bot H 24\n",
      "jbosstm-bot 2H 12\n",
      "jenkins-x-bot-test 6H 4\n",
      "jetstack-bot 30T 48\n",
      "jitsi-jenkins 30T 48\n",
      "johnpbloch-bot 2H 12\n",
      "jujubot 4H 6\n",
      "knative-prow-robot 3H 8\n",
      "ks-ci-bot H 24\n",
      "kubevirt-commenter-bot H 24\n",
      "lgtm-com[bot] 4T 360\n",
      "lingohub[bot] 2H 12\n",
      "linux-foundation-easycla[bot] 30T 48\n",
      "livingdocs-automation H 24\n",
      "mender-test-bot H 24\n",
      "metal3-io-bot 30T 48\n",
      "metamaskbot 30T 48\n",
      "minikube-bot 2H 12\n",
      "minikube-pr-bot 3H 8\n",
      "minio-trusted H 24\n",
      "miss-islington H 24\n",
      "mister-roboto H 24\n",
      "mm-cloud-bot 30T 48\n",
      "moz-wptsync-bot H 24\n",
      "mumukibot 12T 120\n"
     ]
    },
    {
     "name": "stderr",
     "output_type": "stream",
     "text": [
      "/Library/Frameworks/Python.framework/Versions/3.11/lib/python3.11/site-packages/statsmodels/base/model.py:607: ConvergenceWarning: Maximum Likelihood optimization failed to converge. Check mle_retvals\n",
      "  warnings.warn(\"Maximum Likelihood optimization failed to \"\n"
     ]
    },
    {
     "name": "stdout",
     "output_type": "stream",
     "text": [
      "nacho-bot H 24\n",
      "neos-bot 3H 8\n",
      "netkan-bot H 24\n",
      "nextcloud-bot 20T 72\n"
     ]
    },
    {
     "name": "stderr",
     "output_type": "stream",
     "text": [
      "/Library/Frameworks/Python.framework/Versions/3.11/lib/python3.11/site-packages/statsmodels/base/model.py:607: ConvergenceWarning: Maximum Likelihood optimization failed to converge. Check mle_retvals\n",
      "  warnings.warn(\"Maximum Likelihood optimization failed to \"\n"
     ]
    },
    {
     "name": "stdout",
     "output_type": "stream",
     "text": [
      "ninjadotorg-bot H 24\n",
      "niveristand-diff-bot 30T 48\n",
      "nodebb-misty 4H 6\n",
      "nodejs-github-bot 20T 72\n",
      "nur-bot 30T 48\n",
      "octokit-fixture-user-a 30T 48\n"
     ]
    },
    {
     "name": "stderr",
     "output_type": "stream",
     "text": [
      "/Library/Frameworks/Python.framework/Versions/3.11/lib/python3.11/site-packages/statsmodels/base/model.py:607: ConvergenceWarning: Maximum Likelihood optimization failed to converge. Check mle_retvals\n",
      "  warnings.warn(\"Maximum Likelihood optimization failed to \"\n"
     ]
    },
    {
     "name": "stdout",
     "output_type": "stream",
     "text": [
      "octokitbot H 24\n",
      "oll-bot H 24\n",
      "openhab-bot 20T 72\n"
     ]
    },
    {
     "name": "stderr",
     "output_type": "stream",
     "text": [
      "/Library/Frameworks/Python.framework/Versions/3.11/lib/python3.11/site-packages/statsmodels/base/model.py:607: ConvergenceWarning: Maximum Likelihood optimization failed to converge. Check mle_retvals\n",
      "  warnings.warn(\"Maximum Likelihood optimization failed to \"\n"
     ]
    },
    {
     "name": "stdout",
     "output_type": "stream",
     "text": [
      "openshift-cherrypick-robot 4T 360\n",
      "openssl-machine H 24\n",
      "pantheon-ci-bot H 24\n",
      "pdfjsbot H 24\n",
      "pirate-bot H 24\n",
      "pivotal-cla 4H 6\n",
      "pytorchbot H 24\n",
      "qmk-bot H 24\n",
      "r-ryantm 4T 360\n",
      "release-drafter[bot] 3H 8\n",
      "renovate-approve-2[bot] 3T 480\n",
      "repo-ranger[bot] 30T 48\n",
      "restyled-io[bot] T 1440\n",
      "review-notebook-app[bot] 20T 72\n",
      "robot-clickhouse H 24\n",
      "rultor 20T 72\n",
      "rust-timer 20T 72\n",
      "rustbot 30T 48\n",
      "sagemaker-bot 20T 72\n"
     ]
    },
    {
     "name": "stderr",
     "output_type": "stream",
     "text": [
      "/Library/Frameworks/Python.framework/Versions/3.11/lib/python3.11/site-packages/statsmodels/base/model.py:607: ConvergenceWarning: Maximum Likelihood optimization failed to converge. Check mle_retvals\n",
      "  warnings.warn(\"Maximum Likelihood optimization failed to \"\n"
     ]
    },
    {
     "name": "stdout",
     "output_type": "stream",
     "text": [
      "salesforce-cla[bot] 4H 6\n",
      "scrutinizer-notifier H 24\n",
      "sentry-io[bot] H 24\n",
      "similar-code-searcher[bot] 2H 12\n",
      "skia-flutter-autoroll 20T 72\n",
      "softwarefactory-project-zuul[bot] 30T 48\n",
      "soloio-bot H 24\n",
      "sourcegraph-bot 3T 480\n",
      "spinnakerbot 2H 12\n",
      "spring-builds 4H 6\n",
      "sprucelabs-ci 8T 168\n"
     ]
    },
    {
     "name": "stderr",
     "output_type": "stream",
     "text": [
      "/Library/Frameworks/Python.framework/Versions/3.11/lib/python3.11/site-packages/statsmodels/base/model.py:607: ConvergenceWarning: Maximum Likelihood optimization failed to converge. Check mle_retvals\n",
      "  warnings.warn(\"Maximum Likelihood optimization failed to \"\n"
     ]
    },
    {
     "name": "stdout",
     "output_type": "stream",
     "text": [
      "sre-bot H 24\n",
      "stakater-user 30T 48\n",
      "status-im-auto 30T 48\n",
      "submariner-bot 20T 72\n",
      "swift-ci 7T 192\n",
      "taichi-gardener H 24\n",
      "thundernest-bot 4H 6\n",
      "translatewiki H 24\n",
      "tykbot[bot] 3H 8\n",
      "usercont-release-bot 30T 48\n",
      "va-bot 3H 8\n",
      "vc-ci 20T 72\n"
     ]
    },
    {
     "name": "stderr",
     "output_type": "stream",
     "text": [
      "/Library/Frameworks/Python.framework/Versions/3.11/lib/python3.11/site-packages/statsmodels/base/model.py:607: ConvergenceWarning: Maximum Likelihood optimization failed to converge. Check mle_retvals\n",
      "  warnings.warn(\"Maximum Likelihood optimization failed to \"\n"
     ]
    },
    {
     "name": "stdout",
     "output_type": "stream",
     "text": [
      "violinist-bot 30T 48\n",
      "vmwclabot H 24\n",
      "vscode-issue-tracker-bot 30T 48\n",
      "vtex-io-ci-cd[bot] H 24\n",
      "vtex-io-docs-bot[bot] 2H 12\n",
      "welcome[bot] 20T 72\n",
      "wet-boew-bot 4H 6\n",
      "wso2-jenkins-bot 30T 48\n",
      "335498 30T 48\n",
      "335745 3H 8\n",
      "353444 2H 12\n",
      "355383 2H 12\n",
      "359854 H 24\n",
      "364686 30T 48\n",
      "367939 H 24\n",
      "368375 20T 72\n"
     ]
    },
    {
     "name": "stderr",
     "output_type": "stream",
     "text": [
      "/Library/Frameworks/Python.framework/Versions/3.11/lib/python3.11/site-packages/statsmodels/base/model.py:607: ConvergenceWarning: Maximum Likelihood optimization failed to converge. Check mle_retvals\n",
      "  warnings.warn(\"Maximum Likelihood optimization failed to \"\n"
     ]
    },
    {
     "name": "stdout",
     "output_type": "stream",
     "text": [
      "373769 3H 8\n",
      "374774 H 24\n",
      "376887 H 24\n",
      "377538 30T 48\n",
      "377543 3H 8\n",
      "387658 H 24\n",
      "387854 H 24\n",
      "437693 30T 48\n",
      "437766 H 24\n",
      "438655 4H 6\n",
      "446498 30T 48\n",
      "449544 3H 8\n",
      "449583 H 24\n",
      "454496 H 24\n",
      "454638 4H 6\n",
      "455745 30T 48\n",
      "456995 4H 6\n",
      "459877 H 24\n",
      "465566 30T 48\n",
      "473965 30T 48\n",
      "475849 3H 8\n",
      "483648 4H 6\n",
      "487355 3H 8\n",
      "489848 3H 8\n",
      "535599 3H 8\n",
      "537443 H 24\n",
      "543595 H 24\n",
      "549789 H 24\n",
      "553976 H 24\n",
      "558473 H 24\n",
      "567384 H 24\n",
      "567396 3H 8\n",
      "567743 4H 6\n",
      "576539 30T 48\n",
      "578794 4H 6\n",
      "579369 2H 12\n",
      "587344 2H 12\n",
      "597849 H 24\n",
      "645363 H 24\n",
      "646677 H 24\n",
      "646795 2H 12\n",
      "648358 H 24\n",
      "656549 2H 12\n",
      "658766 2H 12\n",
      "658938 H 24\n",
      "664498 2H 12\n",
      "664693 H 24\n",
      "668867 H 24\n",
      "669693 H 24\n",
      "673338 30T 48\n",
      "674548 H 24\n",
      "689788 4H 6\n",
      "733774 30T 48\n",
      "735987 H 24\n",
      "743485 H 24\n",
      "744346 4H 6\n",
      "748599 2H 12\n",
      "754548 30T 48\n",
      "754564 H 24\n",
      "755587 H 24\n",
      "757389 30T 48\n"
     ]
    },
    {
     "name": "stderr",
     "output_type": "stream",
     "text": [
      "/Library/Frameworks/Python.framework/Versions/3.11/lib/python3.11/site-packages/statsmodels/base/model.py:607: ConvergenceWarning: Maximum Likelihood optimization failed to converge. Check mle_retvals\n",
      "  warnings.warn(\"Maximum Likelihood optimization failed to \"\n"
     ]
    },
    {
     "name": "stdout",
     "output_type": "stream",
     "text": [
      "758333 H 24\n",
      "763394 H 24\n",
      "767954 H 24\n",
      "769343 H 24\n",
      "769399 H 24\n",
      "773356 H 24\n",
      "783656 4H 6\n",
      "784775 H 24\n",
      "787773 H 24\n",
      "795565 H 24\n",
      "795985 H 24\n",
      "797989 30T 48\n",
      "798388 2H 12\n",
      "843533 H 24\n",
      "845398 3H 8\n",
      "847775 H 24\n",
      "849548 H 24\n",
      "859454 3H 8\n",
      "859754 2H 12\n",
      "864856 H 24\n",
      "864943 H 24\n",
      "865858 2H 12\n",
      "873354 H 24\n",
      "885533 H 24\n",
      "885899 H 24\n",
      "893864 3H 8\n",
      "896363 2H 12\n",
      "897436 H 24\n",
      "897688 30T 48\n",
      "933837 H 24\n",
      "946773 H 24\n",
      "947579 30T 48\n",
      "949698 2H 12\n",
      "954443 30T 48\n",
      "955787 8T 168\n"
     ]
    },
    {
     "name": "stderr",
     "output_type": "stream",
     "text": [
      "/Library/Frameworks/Python.framework/Versions/3.11/lib/python3.11/site-packages/statsmodels/base/model.py:607: ConvergenceWarning: Maximum Likelihood optimization failed to converge. Check mle_retvals\n",
      "  warnings.warn(\"Maximum Likelihood optimization failed to \"\n"
     ]
    },
    {
     "name": "stdout",
     "output_type": "stream",
     "text": [
      "957953 H 24\n",
      "966834 3H 8\n",
      "976375 H 24\n",
      "977484 H 24\n",
      "978678 30T 48\n",
      "979384 2H 12\n",
      "983548 H 24\n",
      "983874 H 24\n",
      "985588 H 24\n",
      "987894 H 24\n",
      "988439 H 24\n"
     ]
    }
   ],
   "source": [
    "ets_results = data.groupby(['category', 'contributor']).apply(ets_model).reset_index(drop=True)"
   ]
  },
  {
   "cell_type": "code",
   "execution_count": 26,
   "metadata": {},
   "outputs": [],
   "source": [
    "ets_results.to_csv('../models-evaluation-v4/ets_model_metrics.csv', index=False)"
   ]
  },
  {
   "cell_type": "markdown",
   "metadata": {},
   "source": [
    "# Models comparing"
   ]
  },
  {
   "cell_type": "code",
   "execution_count": 29,
   "metadata": {},
   "outputs": [],
   "source": [
    "sarima_results = pd.read_csv('../models-evaluation-v4/sarima_model_metrics.csv')\n",
    "uc_results = pd.read_csv('../models-evaluation-v4/uc_model_metrics.csv')\n",
    "ets_results = pd.read_csv('../models-evaluation-v4/ets_model_metrics.csv')"
   ]
  },
  {
   "cell_type": "code",
   "execution_count": 30,
   "metadata": {},
   "outputs": [],
   "source": [
    "sarima_results['model'] = 'sarima'\n",
    "uc_results['model'] = 'uc'\n",
    "ets_results['model'] = 'tes'"
   ]
  },
  {
   "cell_type": "code",
   "execution_count": 31,
   "metadata": {},
   "outputs": [
    {
     "data": {
      "text/html": [
       "<div>\n",
       "<style scoped>\n",
       "    .dataframe tbody tr th:only-of-type {\n",
       "        vertical-align: middle;\n",
       "    }\n",
       "\n",
       "    .dataframe tbody tr th {\n",
       "        vertical-align: top;\n",
       "    }\n",
       "\n",
       "    .dataframe thead th {\n",
       "        text-align: right;\n",
       "    }\n",
       "</style>\n",
       "<table border=\"1\" class=\"dataframe\">\n",
       "  <thead>\n",
       "    <tr style=\"text-align: right;\">\n",
       "      <th></th>\n",
       "      <th>contributor</th>\n",
       "      <th>category</th>\n",
       "      <th>r2</th>\n",
       "      <th>mae</th>\n",
       "      <th>pga</th>\n",
       "      <th>ctd_100</th>\n",
       "      <th>ctd_200</th>\n",
       "      <th>ctd_300</th>\n",
       "      <th>flag_300</th>\n",
       "      <th>n_activities</th>\n",
       "      <th>frequency</th>\n",
       "      <th>seasonality</th>\n",
       "      <th>data_points</th>\n",
       "      <th>model</th>\n",
       "    </tr>\n",
       "  </thead>\n",
       "  <tbody>\n",
       "    <tr>\n",
       "      <th>0</th>\n",
       "      <td>0crat</td>\n",
       "      <td>bot</td>\n",
       "      <td>-16.586641</td>\n",
       "      <td>3.213819</td>\n",
       "      <td>0.977918</td>\n",
       "      <td>18</td>\n",
       "      <td>655</td>\n",
       "      <td>2317</td>\n",
       "      <td>1</td>\n",
       "      <td>299</td>\n",
       "      <td>H</td>\n",
       "      <td>24.0</td>\n",
       "      <td>357</td>\n",
       "      <td>sarima</td>\n",
       "    </tr>\n",
       "    <tr>\n",
       "      <th>1</th>\n",
       "      <td>AppVeyorBot</td>\n",
       "      <td>bot</td>\n",
       "      <td>-0.040961</td>\n",
       "      <td>0.656174</td>\n",
       "      <td>0.643860</td>\n",
       "      <td>20</td>\n",
       "      <td>57</td>\n",
       "      <td>33</td>\n",
       "      <td>1</td>\n",
       "      <td>300</td>\n",
       "      <td>H</td>\n",
       "      <td>24.0</td>\n",
       "      <td>527</td>\n",
       "      <td>sarima</td>\n",
       "    </tr>\n",
       "    <tr>\n",
       "      <th>2</th>\n",
       "      <td>Code-Inside-Bot</td>\n",
       "      <td>bot</td>\n",
       "      <td>0.997691</td>\n",
       "      <td>0.017421</td>\n",
       "      <td>0.963516</td>\n",
       "      <td>0</td>\n",
       "      <td>0</td>\n",
       "      <td>24</td>\n",
       "      <td>1</td>\n",
       "      <td>293</td>\n",
       "      <td>H</td>\n",
       "      <td>24.0</td>\n",
       "      <td>600</td>\n",
       "      <td>sarima</td>\n",
       "    </tr>\n",
       "    <tr>\n",
       "      <th>3</th>\n",
       "      <td>CrowdinBot</td>\n",
       "      <td>bot</td>\n",
       "      <td>-0.264968</td>\n",
       "      <td>3.462680</td>\n",
       "      <td>0.981053</td>\n",
       "      <td>68</td>\n",
       "      <td>43</td>\n",
       "      <td>335</td>\n",
       "      <td>1</td>\n",
       "      <td>292</td>\n",
       "      <td>H</td>\n",
       "      <td>24.0</td>\n",
       "      <td>553</td>\n",
       "      <td>sarima</td>\n",
       "    </tr>\n",
       "    <tr>\n",
       "      <th>4</th>\n",
       "      <td>DrahtBot</td>\n",
       "      <td>bot</td>\n",
       "      <td>-0.020902</td>\n",
       "      <td>0.475564</td>\n",
       "      <td>0.622030</td>\n",
       "      <td>9</td>\n",
       "      <td>-52</td>\n",
       "      <td>-1</td>\n",
       "      <td>-1</td>\n",
       "      <td>299</td>\n",
       "      <td>H</td>\n",
       "      <td>24.0</td>\n",
       "      <td>878</td>\n",
       "      <td>sarima</td>\n",
       "    </tr>\n",
       "    <tr>\n",
       "      <th>...</th>\n",
       "      <td>...</td>\n",
       "      <td>...</td>\n",
       "      <td>...</td>\n",
       "      <td>...</td>\n",
       "      <td>...</td>\n",
       "      <td>...</td>\n",
       "      <td>...</td>\n",
       "      <td>...</td>\n",
       "      <td>...</td>\n",
       "      <td>...</td>\n",
       "      <td>...</td>\n",
       "      <td>...</td>\n",
       "      <td>...</td>\n",
       "      <td>...</td>\n",
       "    </tr>\n",
       "    <tr>\n",
       "      <th>805</th>\n",
       "      <td>983548</td>\n",
       "      <td>human</td>\n",
       "      <td>0.301911</td>\n",
       "      <td>0.567663</td>\n",
       "      <td>0.272532</td>\n",
       "      <td>-381</td>\n",
       "      <td>-203</td>\n",
       "      <td>-8</td>\n",
       "      <td>-1</td>\n",
       "      <td>296</td>\n",
       "      <td>H</td>\n",
       "      <td>24.0</td>\n",
       "      <td>718</td>\n",
       "      <td>tes</td>\n",
       "    </tr>\n",
       "    <tr>\n",
       "      <th>806</th>\n",
       "      <td>983874</td>\n",
       "      <td>human</td>\n",
       "      <td>-0.314606</td>\n",
       "      <td>1.942597</td>\n",
       "      <td>0.879902</td>\n",
       "      <td>157</td>\n",
       "      <td>217</td>\n",
       "      <td>234</td>\n",
       "      <td>1</td>\n",
       "      <td>297</td>\n",
       "      <td>H</td>\n",
       "      <td>24.0</td>\n",
       "      <td>559</td>\n",
       "      <td>tes</td>\n",
       "    </tr>\n",
       "    <tr>\n",
       "      <th>807</th>\n",
       "      <td>985588</td>\n",
       "      <td>human</td>\n",
       "      <td>-0.430902</td>\n",
       "      <td>1.077373</td>\n",
       "      <td>0.379603</td>\n",
       "      <td>-18</td>\n",
       "      <td>-281</td>\n",
       "      <td>-1</td>\n",
       "      <td>-1</td>\n",
       "      <td>300</td>\n",
       "      <td>H</td>\n",
       "      <td>24.0</td>\n",
       "      <td>313</td>\n",
       "      <td>tes</td>\n",
       "    </tr>\n",
       "    <tr>\n",
       "      <th>808</th>\n",
       "      <td>987894</td>\n",
       "      <td>human</td>\n",
       "      <td>-0.008194</td>\n",
       "      <td>0.927122</td>\n",
       "      <td>0.462069</td>\n",
       "      <td>-264</td>\n",
       "      <td>-147</td>\n",
       "      <td>-2</td>\n",
       "      <td>-1</td>\n",
       "      <td>296</td>\n",
       "      <td>H</td>\n",
       "      <td>24.0</td>\n",
       "      <td>543</td>\n",
       "      <td>tes</td>\n",
       "    </tr>\n",
       "    <tr>\n",
       "      <th>809</th>\n",
       "      <td>988439</td>\n",
       "      <td>human</td>\n",
       "      <td>-151.724035</td>\n",
       "      <td>18.764255</td>\n",
       "      <td>0.997151</td>\n",
       "      <td>85</td>\n",
       "      <td>315</td>\n",
       "      <td>629</td>\n",
       "      <td>1</td>\n",
       "      <td>288</td>\n",
       "      <td>H</td>\n",
       "      <td>24.0</td>\n",
       "      <td>411</td>\n",
       "      <td>tes</td>\n",
       "    </tr>\n",
       "  </tbody>\n",
       "</table>\n",
       "<p>810 rows × 14 columns</p>\n",
       "</div>"
      ],
      "text/plain": [
       "         contributor category          r2        mae       pga  ctd_100  \\\n",
       "0              0crat      bot  -16.586641   3.213819  0.977918       18   \n",
       "1        AppVeyorBot      bot   -0.040961   0.656174  0.643860       20   \n",
       "2    Code-Inside-Bot      bot    0.997691   0.017421  0.963516        0   \n",
       "3         CrowdinBot      bot   -0.264968   3.462680  0.981053       68   \n",
       "4           DrahtBot      bot   -0.020902   0.475564  0.622030        9   \n",
       "..               ...      ...         ...        ...       ...      ...   \n",
       "805           983548    human    0.301911   0.567663  0.272532     -381   \n",
       "806           983874    human   -0.314606   1.942597  0.879902      157   \n",
       "807           985588    human   -0.430902   1.077373  0.379603      -18   \n",
       "808           987894    human   -0.008194   0.927122  0.462069     -264   \n",
       "809           988439    human -151.724035  18.764255  0.997151       85   \n",
       "\n",
       "     ctd_200  ctd_300  flag_300  n_activities frequency  seasonality  \\\n",
       "0        655     2317         1           299         H         24.0   \n",
       "1         57       33         1           300         H         24.0   \n",
       "2          0       24         1           293         H         24.0   \n",
       "3         43      335         1           292         H         24.0   \n",
       "4        -52       -1        -1           299         H         24.0   \n",
       "..       ...      ...       ...           ...       ...          ...   \n",
       "805     -203       -8        -1           296         H         24.0   \n",
       "806      217      234         1           297         H         24.0   \n",
       "807     -281       -1        -1           300         H         24.0   \n",
       "808     -147       -2        -1           296         H         24.0   \n",
       "809      315      629         1           288         H         24.0   \n",
       "\n",
       "     data_points   model  \n",
       "0            357  sarima  \n",
       "1            527  sarima  \n",
       "2            600  sarima  \n",
       "3            553  sarima  \n",
       "4            878  sarima  \n",
       "..           ...     ...  \n",
       "805          718     tes  \n",
       "806          559     tes  \n",
       "807          313     tes  \n",
       "808          543     tes  \n",
       "809          411     tes  \n",
       "\n",
       "[810 rows x 14 columns]"
      ]
     },
     "execution_count": 31,
     "metadata": {},
     "output_type": "execute_result"
    }
   ],
   "source": [
    "results = pd.concat([sarima_results, uc_results, ets_results], ignore_index=True)\n",
    "results"
   ]
  },
  {
   "cell_type": "code",
   "execution_count": 32,
   "metadata": {},
   "outputs": [],
   "source": [
    "def normalize_to_minutes(frequency):\n",
    "    if len(frequency) == 1:\n",
    "        frequency = '1'+frequency\n",
    "\n",
    "    if frequency.endswith('T'):\n",
    "        return int(frequency[:-1])\n",
    "    elif frequency.endswith('H'):\n",
    "        return int(frequency[:-1]) * 60\n",
    "    elif frequency.endswith('D'):\n",
    "        return int(frequency[:-1]) * 24 * 60\n",
    "    else:\n",
    "        return None"
   ]
  },
  {
   "cell_type": "code",
   "execution_count": 35,
   "metadata": {},
   "outputs": [],
   "source": [
    "results['ctd_100_minutes'] = results.apply(lambda row: row['ctd_100'] * normalize_to_minutes(row['frequency']), axis=1)\n",
    "results['ctd_200_minutes'] = results.apply(lambda row: row['ctd_200'] * normalize_to_minutes(row['frequency']), axis=1)\n",
    "results['ctd_300_minutes'] = results.apply(lambda row: row['ctd_300'] * normalize_to_minutes(row['frequency']), axis=1)\n"
   ]
  },
  {
   "cell_type": "code",
   "execution_count": 40,
   "metadata": {},
   "outputs": [
    {
     "ename": "ValueError",
     "evalue": "Number of columns must be a positive integer, not 0",
     "output_type": "error",
     "traceback": [
      "\u001b[0;31m---------------------------------------------------------------------------\u001b[0m",
      "\u001b[0;31mValueError\u001b[0m                                Traceback (most recent call last)",
      "Cell \u001b[0;32mIn[40], line 3\u001b[0m\n\u001b[1;32m      1\u001b[0m sns\u001b[38;5;241m.\u001b[39mset_theme(style\u001b[38;5;241m=\u001b[39m\u001b[38;5;124m\"\u001b[39m\u001b[38;5;124mwhitegrid\u001b[39m\u001b[38;5;124m\"\u001b[39m)\n\u001b[0;32m----> 3\u001b[0m fig, axes \u001b[38;5;241m=\u001b[39m \u001b[43mplt\u001b[49m\u001b[38;5;241;43m.\u001b[39;49m\u001b[43msubplots\u001b[49m\u001b[43m(\u001b[49m\u001b[38;5;241;43m3\u001b[39;49m\u001b[43m,\u001b[49m\u001b[43m \u001b[49m\u001b[38;5;241;43m0\u001b[39;49m\u001b[43m,\u001b[49m\u001b[43m \u001b[49m\u001b[43mfigsize\u001b[49m\u001b[38;5;241;43m=\u001b[39;49m\u001b[43m(\u001b[49m\u001b[38;5;241;43m15\u001b[39;49m\u001b[43m,\u001b[49m\u001b[43m \u001b[49m\u001b[38;5;241;43m15\u001b[39;49m\u001b[43m)\u001b[49m\u001b[43m)\u001b[49m\n\u001b[1;32m      5\u001b[0m sns\u001b[38;5;241m.\u001b[39mboxenplot(data\u001b[38;5;241m=\u001b[39mresults, x\u001b[38;5;241m=\u001b[39m\u001b[38;5;124m'\u001b[39m\u001b[38;5;124mmodel\u001b[39m\u001b[38;5;124m'\u001b[39m, y\u001b[38;5;241m=\u001b[39m\u001b[38;5;124m'\u001b[39m\u001b[38;5;124mctd_100_minutes\u001b[39m\u001b[38;5;124m'\u001b[39m, hue\u001b[38;5;241m=\u001b[39m\u001b[38;5;124m'\u001b[39m\u001b[38;5;124mcategory\u001b[39m\u001b[38;5;124m'\u001b[39m, ax\u001b[38;5;241m=\u001b[39maxes[\u001b[38;5;241m0\u001b[39m], showfliers\u001b[38;5;241m=\u001b[39m\u001b[38;5;28;01mFalse\u001b[39;00m)\n\u001b[1;32m      6\u001b[0m sns\u001b[38;5;241m.\u001b[39mboxenplot(data\u001b[38;5;241m=\u001b[39mresults, x\u001b[38;5;241m=\u001b[39m\u001b[38;5;124m'\u001b[39m\u001b[38;5;124mmodel\u001b[39m\u001b[38;5;124m'\u001b[39m, y\u001b[38;5;241m=\u001b[39m\u001b[38;5;124m'\u001b[39m\u001b[38;5;124mctd_100_minutes\u001b[39m\u001b[38;5;124m'\u001b[39m, hue\u001b[38;5;241m=\u001b[39m\u001b[38;5;124m'\u001b[39m\u001b[38;5;124mcategory\u001b[39m\u001b[38;5;124m'\u001b[39m, ax\u001b[38;5;241m=\u001b[39maxes[\u001b[38;5;241m1\u001b[39m], showfliers\u001b[38;5;241m=\u001b[39m\u001b[38;5;28;01mFalse\u001b[39;00m)\n",
      "File \u001b[0;32m/Library/Frameworks/Python.framework/Versions/3.11/lib/python3.11/site-packages/matplotlib/pyplot.py:1599\u001b[0m, in \u001b[0;36msubplots\u001b[0;34m(nrows, ncols, sharex, sharey, squeeze, width_ratios, height_ratios, subplot_kw, gridspec_kw, **fig_kw)\u001b[0m\n\u001b[1;32m   1455\u001b[0m \u001b[38;5;250m\u001b[39m\u001b[38;5;124;03m\"\"\"\u001b[39;00m\n\u001b[1;32m   1456\u001b[0m \u001b[38;5;124;03mCreate a figure and a set of subplots.\u001b[39;00m\n\u001b[1;32m   1457\u001b[0m \n\u001b[0;32m   (...)\u001b[0m\n\u001b[1;32m   1596\u001b[0m \n\u001b[1;32m   1597\u001b[0m \u001b[38;5;124;03m\"\"\"\u001b[39;00m\n\u001b[1;32m   1598\u001b[0m fig \u001b[38;5;241m=\u001b[39m figure(\u001b[38;5;241m*\u001b[39m\u001b[38;5;241m*\u001b[39mfig_kw)\n\u001b[0;32m-> 1599\u001b[0m axs \u001b[38;5;241m=\u001b[39m \u001b[43mfig\u001b[49m\u001b[38;5;241;43m.\u001b[39;49m\u001b[43msubplots\u001b[49m\u001b[43m(\u001b[49m\u001b[43mnrows\u001b[49m\u001b[38;5;241;43m=\u001b[39;49m\u001b[43mnrows\u001b[49m\u001b[43m,\u001b[49m\u001b[43m \u001b[49m\u001b[43mncols\u001b[49m\u001b[38;5;241;43m=\u001b[39;49m\u001b[43mncols\u001b[49m\u001b[43m,\u001b[49m\u001b[43m \u001b[49m\u001b[43msharex\u001b[49m\u001b[38;5;241;43m=\u001b[39;49m\u001b[43msharex\u001b[49m\u001b[43m,\u001b[49m\u001b[43m \u001b[49m\u001b[43msharey\u001b[49m\u001b[38;5;241;43m=\u001b[39;49m\u001b[43msharey\u001b[49m\u001b[43m,\u001b[49m\n\u001b[1;32m   1600\u001b[0m \u001b[43m                   \u001b[49m\u001b[43msqueeze\u001b[49m\u001b[38;5;241;43m=\u001b[39;49m\u001b[43msqueeze\u001b[49m\u001b[43m,\u001b[49m\u001b[43m \u001b[49m\u001b[43msubplot_kw\u001b[49m\u001b[38;5;241;43m=\u001b[39;49m\u001b[43msubplot_kw\u001b[49m\u001b[43m,\u001b[49m\n\u001b[1;32m   1601\u001b[0m \u001b[43m                   \u001b[49m\u001b[43mgridspec_kw\u001b[49m\u001b[38;5;241;43m=\u001b[39;49m\u001b[43mgridspec_kw\u001b[49m\u001b[43m,\u001b[49m\u001b[43m \u001b[49m\u001b[43mheight_ratios\u001b[49m\u001b[38;5;241;43m=\u001b[39;49m\u001b[43mheight_ratios\u001b[49m\u001b[43m,\u001b[49m\n\u001b[1;32m   1602\u001b[0m \u001b[43m                   \u001b[49m\u001b[43mwidth_ratios\u001b[49m\u001b[38;5;241;43m=\u001b[39;49m\u001b[43mwidth_ratios\u001b[49m\u001b[43m)\u001b[49m\n\u001b[1;32m   1603\u001b[0m \u001b[38;5;28;01mreturn\u001b[39;00m fig, axs\n",
      "File \u001b[0;32m/Library/Frameworks/Python.framework/Versions/3.11/lib/python3.11/site-packages/matplotlib/figure.py:930\u001b[0m, in \u001b[0;36mFigureBase.subplots\u001b[0;34m(self, nrows, ncols, sharex, sharey, squeeze, width_ratios, height_ratios, subplot_kw, gridspec_kw)\u001b[0m\n\u001b[1;32m    926\u001b[0m         \u001b[38;5;28;01mraise\u001b[39;00m \u001b[38;5;167;01mValueError\u001b[39;00m(\u001b[38;5;124m\"\u001b[39m\u001b[38;5;124m'\u001b[39m\u001b[38;5;124mwidth_ratios\u001b[39m\u001b[38;5;124m'\u001b[39m\u001b[38;5;124m must not be defined both as \u001b[39m\u001b[38;5;124m\"\u001b[39m\n\u001b[1;32m    927\u001b[0m                          \u001b[38;5;124m\"\u001b[39m\u001b[38;5;124mparameter and as key in \u001b[39m\u001b[38;5;124m'\u001b[39m\u001b[38;5;124mgridspec_kw\u001b[39m\u001b[38;5;124m'\u001b[39m\u001b[38;5;124m\"\u001b[39m)\n\u001b[1;32m    928\u001b[0m     gridspec_kw[\u001b[38;5;124m'\u001b[39m\u001b[38;5;124mwidth_ratios\u001b[39m\u001b[38;5;124m'\u001b[39m] \u001b[38;5;241m=\u001b[39m width_ratios\n\u001b[0;32m--> 930\u001b[0m gs \u001b[38;5;241m=\u001b[39m \u001b[38;5;28;43mself\u001b[39;49m\u001b[38;5;241;43m.\u001b[39;49m\u001b[43madd_gridspec\u001b[49m\u001b[43m(\u001b[49m\u001b[43mnrows\u001b[49m\u001b[43m,\u001b[49m\u001b[43m \u001b[49m\u001b[43mncols\u001b[49m\u001b[43m,\u001b[49m\u001b[43m \u001b[49m\u001b[43mfigure\u001b[49m\u001b[38;5;241;43m=\u001b[39;49m\u001b[38;5;28;43mself\u001b[39;49m\u001b[43m,\u001b[49m\u001b[43m \u001b[49m\u001b[38;5;241;43m*\u001b[39;49m\u001b[38;5;241;43m*\u001b[39;49m\u001b[43mgridspec_kw\u001b[49m\u001b[43m)\u001b[49m\n\u001b[1;32m    931\u001b[0m axs \u001b[38;5;241m=\u001b[39m gs\u001b[38;5;241m.\u001b[39msubplots(sharex\u001b[38;5;241m=\u001b[39msharex, sharey\u001b[38;5;241m=\u001b[39msharey, squeeze\u001b[38;5;241m=\u001b[39msqueeze,\n\u001b[1;32m    932\u001b[0m                   subplot_kw\u001b[38;5;241m=\u001b[39msubplot_kw)\n\u001b[1;32m    933\u001b[0m \u001b[38;5;28;01mreturn\u001b[39;00m axs\n",
      "File \u001b[0;32m/Library/Frameworks/Python.framework/Versions/3.11/lib/python3.11/site-packages/matplotlib/figure.py:1542\u001b[0m, in \u001b[0;36mFigureBase.add_gridspec\u001b[0;34m(self, nrows, ncols, **kwargs)\u001b[0m\n\u001b[1;32m   1503\u001b[0m \u001b[38;5;250m\u001b[39m\u001b[38;5;124;03m\"\"\"\u001b[39;00m\n\u001b[1;32m   1504\u001b[0m \u001b[38;5;124;03mReturn a `.GridSpec` that has this figure as a parent.  This allows\u001b[39;00m\n\u001b[1;32m   1505\u001b[0m \u001b[38;5;124;03mcomplex layout of Axes in the figure.\u001b[39;00m\n\u001b[0;32m   (...)\u001b[0m\n\u001b[1;32m   1538\u001b[0m \n\u001b[1;32m   1539\u001b[0m \u001b[38;5;124;03m\"\"\"\u001b[39;00m\n\u001b[1;32m   1541\u001b[0m _ \u001b[38;5;241m=\u001b[39m kwargs\u001b[38;5;241m.\u001b[39mpop(\u001b[38;5;124m'\u001b[39m\u001b[38;5;124mfigure\u001b[39m\u001b[38;5;124m'\u001b[39m, \u001b[38;5;28;01mNone\u001b[39;00m)  \u001b[38;5;66;03m# pop in case user has added this...\u001b[39;00m\n\u001b[0;32m-> 1542\u001b[0m gs \u001b[38;5;241m=\u001b[39m \u001b[43mGridSpec\u001b[49m\u001b[43m(\u001b[49m\u001b[43mnrows\u001b[49m\u001b[38;5;241;43m=\u001b[39;49m\u001b[43mnrows\u001b[49m\u001b[43m,\u001b[49m\u001b[43m \u001b[49m\u001b[43mncols\u001b[49m\u001b[38;5;241;43m=\u001b[39;49m\u001b[43mncols\u001b[49m\u001b[43m,\u001b[49m\u001b[43m \u001b[49m\u001b[43mfigure\u001b[49m\u001b[38;5;241;43m=\u001b[39;49m\u001b[38;5;28;43mself\u001b[39;49m\u001b[43m,\u001b[49m\u001b[43m \u001b[49m\u001b[38;5;241;43m*\u001b[39;49m\u001b[38;5;241;43m*\u001b[39;49m\u001b[43mkwargs\u001b[49m\u001b[43m)\u001b[49m\n\u001b[1;32m   1543\u001b[0m \u001b[38;5;28;01mreturn\u001b[39;00m gs\n",
      "File \u001b[0;32m/Library/Frameworks/Python.framework/Versions/3.11/lib/python3.11/site-packages/matplotlib/gridspec.py:378\u001b[0m, in \u001b[0;36mGridSpec.__init__\u001b[0;34m(self, nrows, ncols, figure, left, bottom, right, top, wspace, hspace, width_ratios, height_ratios)\u001b[0m\n\u001b[1;32m    375\u001b[0m \u001b[38;5;28mself\u001b[39m\u001b[38;5;241m.\u001b[39mhspace \u001b[38;5;241m=\u001b[39m hspace\n\u001b[1;32m    376\u001b[0m \u001b[38;5;28mself\u001b[39m\u001b[38;5;241m.\u001b[39mfigure \u001b[38;5;241m=\u001b[39m figure\n\u001b[0;32m--> 378\u001b[0m \u001b[38;5;28;43msuper\u001b[39;49m\u001b[43m(\u001b[49m\u001b[43m)\u001b[49m\u001b[38;5;241;43m.\u001b[39;49m\u001b[38;5;21;43m__init__\u001b[39;49m\u001b[43m(\u001b[49m\u001b[43mnrows\u001b[49m\u001b[43m,\u001b[49m\u001b[43m \u001b[49m\u001b[43mncols\u001b[49m\u001b[43m,\u001b[49m\n\u001b[1;32m    379\u001b[0m \u001b[43m                 \u001b[49m\u001b[43mwidth_ratios\u001b[49m\u001b[38;5;241;43m=\u001b[39;49m\u001b[43mwidth_ratios\u001b[49m\u001b[43m,\u001b[49m\n\u001b[1;32m    380\u001b[0m \u001b[43m                 \u001b[49m\u001b[43mheight_ratios\u001b[49m\u001b[38;5;241;43m=\u001b[39;49m\u001b[43mheight_ratios\u001b[49m\u001b[43m)\u001b[49m\n",
      "File \u001b[0;32m/Library/Frameworks/Python.framework/Versions/3.11/lib/python3.11/site-packages/matplotlib/gridspec.py:51\u001b[0m, in \u001b[0;36mGridSpecBase.__init__\u001b[0;34m(self, nrows, ncols, height_ratios, width_ratios)\u001b[0m\n\u001b[1;32m     48\u001b[0m     \u001b[38;5;28;01mraise\u001b[39;00m \u001b[38;5;167;01mValueError\u001b[39;00m(\n\u001b[1;32m     49\u001b[0m         \u001b[38;5;124mf\u001b[39m\u001b[38;5;124m\"\u001b[39m\u001b[38;5;124mNumber of rows must be a positive integer, not \u001b[39m\u001b[38;5;132;01m{\u001b[39;00mnrows\u001b[38;5;132;01m!r}\u001b[39;00m\u001b[38;5;124m\"\u001b[39m)\n\u001b[1;32m     50\u001b[0m \u001b[38;5;28;01mif\u001b[39;00m \u001b[38;5;129;01mnot\u001b[39;00m \u001b[38;5;28misinstance\u001b[39m(ncols, Integral) \u001b[38;5;129;01mor\u001b[39;00m ncols \u001b[38;5;241m<\u001b[39m\u001b[38;5;241m=\u001b[39m \u001b[38;5;241m0\u001b[39m:\n\u001b[0;32m---> 51\u001b[0m     \u001b[38;5;28;01mraise\u001b[39;00m \u001b[38;5;167;01mValueError\u001b[39;00m(\n\u001b[1;32m     52\u001b[0m         \u001b[38;5;124mf\u001b[39m\u001b[38;5;124m\"\u001b[39m\u001b[38;5;124mNumber of columns must be a positive integer, not \u001b[39m\u001b[38;5;132;01m{\u001b[39;00mncols\u001b[38;5;132;01m!r}\u001b[39;00m\u001b[38;5;124m\"\u001b[39m)\n\u001b[1;32m     53\u001b[0m \u001b[38;5;28mself\u001b[39m\u001b[38;5;241m.\u001b[39m_nrows, \u001b[38;5;28mself\u001b[39m\u001b[38;5;241m.\u001b[39m_ncols \u001b[38;5;241m=\u001b[39m nrows, ncols\n\u001b[1;32m     54\u001b[0m \u001b[38;5;28mself\u001b[39m\u001b[38;5;241m.\u001b[39mset_height_ratios(height_ratios)\n",
      "\u001b[0;31mValueError\u001b[0m: Number of columns must be a positive integer, not 0"
     ]
    },
    {
     "data": {
      "text/plain": [
       "<Figure size 1500x1500 with 0 Axes>"
      ]
     },
     "metadata": {},
     "output_type": "display_data"
    }
   ],
   "source": [
    "sns.set_theme(style=\"whitegrid\")\n",
    "\n",
    "fig, axes = plt.subplots(3, , figsize=(15, 15))\n",
    "\n",
    "sns.boxenplot(data=results, x='model', y='ctd_100_minutes', hue='category', ax=axes[0, 0], showfliers=False)\n",
    "sns.boxenplot(data=results, x='model', y='ctd_100_minutes', hue='category', ax=axes[0, 1], showfliers=False)\n",
    "sns.boxenplot(data=results, x='model', y='ctd_100_minutes', hue='category', ax=axes[0, 2], showfliers=False)\n",
    "\n",
    "plt.tight_layout()\n",
    "plt.show()"
   ]
  },
  {
   "cell_type": "markdown",
   "metadata": {},
   "source": [
    "# Activitiy types"
   ]
  },
  {
   "cell_type": "code",
   "execution_count": null,
   "metadata": {},
   "outputs": [],
   "source": [
    "random_user = data['contributor'].sample().values[0]\n",
    "\n",
    "contributor = (\n",
    "    data[data['contributor'] == random_user]\n",
    "    .reset_index(drop=True)[['activity', 'date']]\n",
    "    .groupby([pd.Grouper(key='date', freq='D'), 'activity'])['activity']\n",
    "    .count()\n",
    "    .reset_index(name='n_activities')\n",
    "    .set_index('date')\n",
    "    .rename_axis(None)\n",
    "    .pivot(columns='activity', values='n_activities')\n",
    "    .fillna(0)\n",
    "    .astype(int)\n",
    ")\n",
    "contributor.insert(0, 'n_activities', contributor.sum(axis=1))\n",
    "\n",
    "plt.figure(figsize=(16, 6))\n",
    "sns.lineplot(data=contributor, palette=\"tab10\")\n",
    "plt.xlabel('Timestamp')\n",
    "plt.ylabel('Number of Activities')\n",
    "plt.title('Activities Over Time for {}'.format(random_user))\n",
    "plt.xticks(rotation=45)\n",
    "plt.show()"
   ]
  }
 ],
 "metadata": {
  "kernelspec": {
   "display_name": "Python 3",
   "language": "python",
   "name": "python3"
  },
  "language_info": {
   "codemirror_mode": {
    "name": "ipython",
    "version": 3
   },
   "file_extension": ".py",
   "mimetype": "text/x-python",
   "name": "python",
   "nbconvert_exporter": "python",
   "pygments_lexer": "ipython3",
   "version": "3.11.5"
  }
 },
 "nbformat": 4,
 "nbformat_minor": 2
}
